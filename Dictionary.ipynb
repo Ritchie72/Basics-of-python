{
 "cells": [
  {
   "cell_type": "code",
   "execution_count": 1,
   "id": "a06896b4-c686-43e8-ac6c-12040eb23e2f",
   "metadata": {},
   "outputs": [],
   "source": [
    "d1 = {'number':[2,14,3,34],'assignment':(1,2,3,4,5,6),'launch_date':{28,12,14},'class_tim':{'web_dev':8,'data science':8,'java with dsa':7}}"
   ]
  },
  {
   "cell_type": "code",
   "execution_count": 2,
   "id": "1c4192f7-54b3-49c1-9d0d-0662502de18e",
   "metadata": {},
   "outputs": [
    {
     "data": {
      "text/plain": [
       "{'number': [2, 14, 3, 34],\n",
       " 'assignment': (1, 2, 3, 4, 5, 6),\n",
       " 'launch_date': {12, 14, 28},\n",
       " 'class_tim': {'web_dev': 8, 'data science': 8, 'java with dsa': 7}}"
      ]
     },
     "execution_count": 2,
     "metadata": {},
     "output_type": "execute_result"
    }
   ],
   "source": [
    "d1"
   ]
  },
  {
   "cell_type": "code",
   "execution_count": 3,
   "id": "a789add0-3049-4129-a957-feb1e68a431c",
   "metadata": {},
   "outputs": [
    {
     "data": {
      "text/plain": [
       "7"
      ]
     },
     "execution_count": 3,
     "metadata": {},
     "output_type": "execute_result"
    }
   ],
   "source": [
    "d1['class_tim']['java with dsa']"
   ]
  },
  {
   "cell_type": "code",
   "execution_count": 4,
   "id": "e1ac40cd-8a1e-45d6-a600-96357a342fbe",
   "metadata": {},
   "outputs": [
    {
     "data": {
      "text/plain": [
       "{'number': [2, 14, 3, 34],\n",
       " 'assignment': (1, 2, 3, 4, 5, 6),\n",
       " 'launch_date': {12, 14, 28},\n",
       " 'class_tim': {'web_dev': 8, 'data science': 8, 'java with dsa': 7}}"
      ]
     },
     "execution_count": 4,
     "metadata": {},
     "output_type": "execute_result"
    }
   ],
   "source": [
    "d1"
   ]
  },
  {
   "cell_type": "code",
   "execution_count": 5,
   "id": "9d4f5f6d-91ee-4f2f-94d1-a3014a52e0e6",
   "metadata": {},
   "outputs": [],
   "source": [
    "d1['mentor'] = ['Harshal','yash']"
   ]
  },
  {
   "cell_type": "code",
   "execution_count": 6,
   "id": "f53b8658-7230-4649-86d5-1ae39b036e58",
   "metadata": {},
   "outputs": [
    {
     "data": {
      "text/plain": [
       "{'number': [2, 14, 3, 34],\n",
       " 'assignment': (1, 2, 3, 4, 5, 6),\n",
       " 'launch_date': {12, 14, 28},\n",
       " 'class_tim': {'web_dev': 8, 'data science': 8, 'java with dsa': 7},\n",
       " 'mentor': ['Harshal', 'yash']}"
      ]
     },
     "execution_count": 6,
     "metadata": {},
     "output_type": "execute_result"
    }
   ],
   "source": [
    "d1"
   ]
  },
  {
   "cell_type": "code",
   "execution_count": 7,
   "id": "704e6133-d60a-47e2-b69d-c1704ad5362a",
   "metadata": {},
   "outputs": [],
   "source": [
    "del d1['mentor']"
   ]
  },
  {
   "cell_type": "code",
   "execution_count": 8,
   "id": "c6a6ac1f-9e93-4c9a-b8f4-e8587cd95ab4",
   "metadata": {},
   "outputs": [
    {
     "data": {
      "text/plain": [
       "dict_keys(['number', 'assignment', 'launch_date', 'class_tim'])"
      ]
     },
     "execution_count": 8,
     "metadata": {},
     "output_type": "execute_result"
    }
   ],
   "source": [
    "d1.keys()"
   ]
  },
  {
   "cell_type": "code",
   "execution_count": 10,
   "id": "36afc610-5eef-4092-b0a0-6a91b684068d",
   "metadata": {},
   "outputs": [
    {
     "data": {
      "text/plain": [
       "['number', 'assignment', 'launch_date', 'class_tim']"
      ]
     },
     "execution_count": 10,
     "metadata": {},
     "output_type": "execute_result"
    }
   ],
   "source": [
    "list(d1.keys())"
   ]
  },
  {
   "cell_type": "code",
   "execution_count": 11,
   "id": "e1c6a5e9-0291-4881-b0c1-11795f154f06",
   "metadata": {},
   "outputs": [
    {
     "data": {
      "text/plain": [
       "[[2, 14, 3, 34],\n",
       " (1, 2, 3, 4, 5, 6),\n",
       " {12, 14, 28},\n",
       " {'web_dev': 8, 'data science': 8, 'java with dsa': 7}]"
      ]
     },
     "execution_count": 11,
     "metadata": {},
     "output_type": "execute_result"
    }
   ],
   "source": [
    "list(d1.values())"
   ]
  },
  {
   "cell_type": "code",
   "execution_count": 12,
   "id": "c294b954-ab0b-46d5-8420-d66c5f15073e",
   "metadata": {},
   "outputs": [
    {
     "data": {
      "text/plain": [
       "dict_items([('number', [2, 14, 3, 34]), ('assignment', (1, 2, 3, 4, 5, 6)), ('launch_date', {28, 12, 14}), ('class_tim', {'web_dev': 8, 'data science': 8, 'java with dsa': 7})])"
      ]
     },
     "execution_count": 12,
     "metadata": {},
     "output_type": "execute_result"
    }
   ],
   "source": [
    "d1.items()"
   ]
  },
  {
   "cell_type": "code",
   "execution_count": 13,
   "id": "b922e96f-b20f-48dd-aa31-263cf306c40a",
   "metadata": {},
   "outputs": [
    {
     "data": {
      "text/plain": [
       "[('number', [2, 14, 3, 34]),\n",
       " ('assignment', (1, 2, 3, 4, 5, 6)),\n",
       " ('launch_date', {12, 14, 28}),\n",
       " ('class_tim', {'web_dev': 8, 'data science': 8, 'java with dsa': 7})]"
      ]
     },
     "execution_count": 13,
     "metadata": {},
     "output_type": "execute_result"
    }
   ],
   "source": [
    "list(d1.items())"
   ]
  },
  {
   "cell_type": "code",
   "execution_count": 14,
   "id": "40078ea9-a69b-4ef4-908a-52b4280540b4",
   "metadata": {},
   "outputs": [
    {
     "data": {
      "text/plain": [
       "('class_tim', {'web_dev': 8, 'data science': 8, 'java with dsa': 7})"
      ]
     },
     "execution_count": 14,
     "metadata": {},
     "output_type": "execute_result"
    }
   ],
   "source": [
    "d1.popitem()"
   ]
  },
  {
   "cell_type": "code",
   "execution_count": 15,
   "id": "021ceb9e-f8d6-4dd7-b6a1-78d215fb85e8",
   "metadata": {},
   "outputs": [
    {
     "data": {
      "text/plain": [
       "{'number': [2, 14, 3, 34],\n",
       " 'assignment': (1, 2, 3, 4, 5, 6),\n",
       " 'launch_date': {12, 14, 28}}"
      ]
     },
     "execution_count": 15,
     "metadata": {},
     "output_type": "execute_result"
    }
   ],
   "source": [
    "d1"
   ]
  },
  {
   "cell_type": "code",
   "execution_count": 16,
   "id": "fb6645d6-4c75-4592-b78b-2e30a5be8462",
   "metadata": {},
   "outputs": [
    {
     "ename": "TypeError",
     "evalue": "pop expected at least 1 argument, got 0",
     "output_type": "error",
     "traceback": [
      "\u001b[0;31m---------------------------------------------------------------------------\u001b[0m",
      "\u001b[0;31mTypeError\u001b[0m                                 Traceback (most recent call last)",
      "Cell \u001b[0;32mIn[16], line 1\u001b[0m\n\u001b[0;32m----> 1\u001b[0m \u001b[43md1\u001b[49m\u001b[38;5;241;43m.\u001b[39;49m\u001b[43mpop\u001b[49m\u001b[43m(\u001b[49m\u001b[43m)\u001b[49m\n",
      "\u001b[0;31mTypeError\u001b[0m: pop expected at least 1 argument, got 0"
     ]
    }
   ],
   "source": [
    "d1.pop()"
   ]
  },
  {
   "cell_type": "code",
   "execution_count": 17,
   "id": "0a586293-f66f-4fab-85ef-b32e746bda40",
   "metadata": {},
   "outputs": [
    {
     "data": {
      "text/plain": [
       "[2, 14, 3, 34]"
      ]
     },
     "execution_count": 17,
     "metadata": {},
     "output_type": "execute_result"
    }
   ],
   "source": [
    "d1.pop('number')"
   ]
  },
  {
   "cell_type": "code",
   "execution_count": 18,
   "id": "ba29a7c7-6e3d-4175-a9c8-68ff33e3967a",
   "metadata": {},
   "outputs": [
    {
     "data": {
      "text/plain": [
       "{'assignment': (1, 2, 3, 4, 5, 6), 'launch_date': {12, 14, 28}}"
      ]
     },
     "execution_count": 18,
     "metadata": {},
     "output_type": "execute_result"
    }
   ],
   "source": [
    "d1"
   ]
  },
  {
   "cell_type": "code",
   "execution_count": null,
   "id": "ea0e0b70-4f36-4fc2-9d22-b6f65b3c1175",
   "metadata": {},
   "outputs": [],
   "source": []
  }
 ],
 "metadata": {
  "kernelspec": {
   "display_name": "Python 3 (ipykernel)",
   "language": "python",
   "name": "python3"
  },
  "language_info": {
   "codemirror_mode": {
    "name": "ipython",
    "version": 3
   },
   "file_extension": ".py",
   "mimetype": "text/x-python",
   "name": "python",
   "nbconvert_exporter": "python",
   "pygments_lexer": "ipython3",
   "version": "3.10.8"
  }
 },
 "nbformat": 4,
 "nbformat_minor": 5
}
