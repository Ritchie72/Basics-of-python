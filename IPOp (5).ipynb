{
 "cells": [
  {
   "cell_type": "code",
   "execution_count": 2,
   "id": "e5fe8bd1-3583-44b8-b984-a3c70366532b",
   "metadata": {},
   "outputs": [
    {
     "name": "stdin",
     "output_type": "stream",
     "text": [
      "enter your name harshal amar gajbhiye\n"
     ]
    }
   ],
   "source": [
    "fname, mname,sname = input('enter your name').split()"
   ]
  },
  {
   "cell_type": "code",
   "execution_count": 3,
   "id": "831f20a7-d988-4996-bd98-8abc11ae3f18",
   "metadata": {},
   "outputs": [
    {
     "name": "stdout",
     "output_type": "stream",
     "text": [
      "harshal\n"
     ]
    }
   ],
   "source": [
    "print(fname)"
   ]
  },
  {
   "cell_type": "code",
   "execution_count": 4,
   "id": "9b35202c-adc2-4bab-af80-9f9f8e9c4ab4",
   "metadata": {},
   "outputs": [
    {
     "name": "stdout",
     "output_type": "stream",
     "text": [
      "amar\n"
     ]
    }
   ],
   "source": [
    "print(mname)"
   ]
  },
  {
   "cell_type": "code",
   "execution_count": 5,
   "id": "a8fdda1a-02d0-414e-bd7e-6fc258f1d9ec",
   "metadata": {},
   "outputs": [
    {
     "name": "stdout",
     "output_type": "stream",
     "text": [
      "gajbhiye\n"
     ]
    }
   ],
   "source": [
    "print(sname)"
   ]
  },
  {
   "cell_type": "code",
   "execution_count": 7,
   "id": "9b0a84e1-8dab-4616-b5fb-a8bddeaa73a7",
   "metadata": {},
   "outputs": [
    {
     "name": "stdin",
     "output_type": "stream",
     "text": [
      " 5 4 3 \n"
     ]
    }
   ],
   "source": [
    " n1,n2,n3 = input().split()"
   ]
  },
  {
   "cell_type": "code",
   "execution_count": 8,
   "id": "653b79ed-e783-420d-9f4f-7f7790f25d24",
   "metadata": {},
   "outputs": [
    {
     "name": "stdout",
     "output_type": "stream",
     "text": [
      "5\n"
     ]
    }
   ],
   "source": [
    "print(n1)"
   ]
  },
  {
   "cell_type": "code",
   "execution_count": 9,
   "id": "630fcab0-ed14-4cc4-9c52-5ef680f24b0e",
   "metadata": {},
   "outputs": [
    {
     "name": "stdout",
     "output_type": "stream",
     "text": [
      "4\n"
     ]
    }
   ],
   "source": [
    "print(n2)"
   ]
  },
  {
   "cell_type": "code",
   "execution_count": 10,
   "id": "8c3a0738-7be6-4081-b21d-33bb3ba374a3",
   "metadata": {},
   "outputs": [
    {
     "name": "stdout",
     "output_type": "stream",
     "text": [
      "3\n"
     ]
    }
   ],
   "source": [
    "print(n3)"
   ]
  },
  {
   "cell_type": "code",
   "execution_count": 11,
   "id": "4554b595-a3cf-48d1-a442-b1aaf314a2f7",
   "metadata": {},
   "outputs": [],
   "source": [
    "n1,n2,n3 = int(n1),int(n2),int(n3)"
   ]
  },
  {
   "cell_type": "code",
   "execution_count": 12,
   "id": "862f4404-fc7e-47bd-9ccd-d2bf60c41a13",
   "metadata": {},
   "outputs": [
    {
     "name": "stdout",
     "output_type": "stream",
     "text": [
      "12\n"
     ]
    }
   ],
   "source": [
    "print(n1+n2+n3)"
   ]
  },
  {
   "cell_type": "code",
   "execution_count": 15,
   "id": "90610464-779e-4e7b-a734-e109659128b2",
   "metadata": {},
   "outputs": [
    {
     "name": "stdin",
     "output_type": "stream",
     "text": [
      " 5 4 3\n"
     ]
    }
   ],
   "source": [
    "n1,n2,n3 = [int(n) for n in input().split()]"
   ]
  },
  {
   "cell_type": "code",
   "execution_count": null,
   "id": "026e78e1-b9c7-4e4d-9445-7655144022c7",
   "metadata": {},
   "outputs": [],
   "source": [
    "## list compresiion."
   ]
  },
  {
   "cell_type": "code",
   "execution_count": 16,
   "id": "098c6996-1422-440d-bc49-33abf16fe164",
   "metadata": {},
   "outputs": [
    {
     "name": "stdout",
     "output_type": "stream",
     "text": [
      "12\n"
     ]
    }
   ],
   "source": [
    "print(n1+n2+n3)"
   ]
  },
  {
   "cell_type": "code",
   "execution_count": 17,
   "id": "960098da-0ae2-4950-afaf-fbb643aec4c3",
   "metadata": {},
   "outputs": [
    {
     "name": "stdin",
     "output_type": "stream",
     "text": [
      "enter name,age,salary: harshal 20 25000\n"
     ]
    }
   ],
   "source": [
    "data = input('enter name,age,salary:').split()   #list "
   ]
  },
  {
   "cell_type": "code",
   "execution_count": 18,
   "id": "2c16ee2e-f3b7-40b7-8c49-289c2cf3bead",
   "metadata": {},
   "outputs": [
    {
     "data": {
      "text/plain": [
       "'harshal'"
      ]
     },
     "execution_count": 18,
     "metadata": {},
     "output_type": "execute_result"
    }
   ],
   "source": [
    "data[0]"
   ]
  },
  {
   "cell_type": "code",
   "execution_count": 19,
   "id": "8e66c62e-09ea-4730-8cc9-ae29cb30ca4f",
   "metadata": {},
   "outputs": [
    {
     "data": {
      "text/plain": [
       "'20'"
      ]
     },
     "execution_count": 19,
     "metadata": {},
     "output_type": "execute_result"
    }
   ],
   "source": [
    "data[1]"
   ]
  },
  {
   "cell_type": "code",
   "execution_count": 20,
   "id": "43b6ed8d-e949-4b13-b530-c266069a5f72",
   "metadata": {},
   "outputs": [
    {
     "name": "stdout",
     "output_type": "stream",
     "text": [
      "['harshal', '20', '25000']\n"
     ]
    }
   ],
   "source": [
    "print(data)"
   ]
  },
  {
   "cell_type": "code",
   "execution_count": 21,
   "id": "3ae28d7c-8241-49aa-ab9e-edf7337854c3",
   "metadata": {},
   "outputs": [],
   "source": [
    "#Using formatted string literals (often called fstrings)"
   ]
  },
  {
   "cell_type": "code",
   "execution_count": 22,
   "id": "c8b86b0c-cc12-49e9-bdc9-4ea030432267",
   "metadata": {},
   "outputs": [
    {
     "name": "stdout",
     "output_type": "stream",
     "text": [
      "radius = 1.5678\n",
      "length = 10.5 breadth = 12.66 radius = 1.5678\n"
     ]
    }
   ],
   "source": [
    "r, l, b = 1.5678, 10.5, 12.66\n",
    "print(f'radius = {r}')\n",
    "print(f'length = {l} breadth = {b} radius = {r}')\n"
   ]
  },
  {
   "cell_type": "code",
   "execution_count": 25,
   "id": "11dc8cd4-c99b-40ef-a613-825116a07667",
   "metadata": {},
   "outputs": [
    {
     "name": "stdout",
     "output_type": "stream",
     "text": [
      "Sushant   \n",
      "Ajay      \n",
      "Raje      \n"
     ]
    }
   ],
   "source": [
    "name = 'Sushant Ajay Raje'\n",
    "for n in name.split( ) :\n",
    "    print(f'{n:10}')      #print in 10 columns."
   ]
  },
  {
   "cell_type": "code",
   "execution_count": 26,
   "id": "044be1e1-594a-47df-bc13-c36654ec86e0",
   "metadata": {},
   "outputs": [],
   "source": [
    "#Using format( ) method ofstring object:"
   ]
  },
  {
   "cell_type": "code",
   "execution_count": 27,
   "id": "48ec28c5-551a-4649-bc02-139fdb9c090f",
   "metadata": {},
   "outputs": [],
   "source": [
    "r, l, b = 1.5678, 10.5, 12.66\n"
   ]
  },
  {
   "cell_type": "code",
   "execution_count": 28,
   "id": "f9e1a102-5a15-4415-ba21-c2894a185a3c",
   "metadata": {},
   "outputs": [
    {
     "name": "stdout",
     "output_type": "stream",
     "text": [
      "radius = 1.5678 length = 10.5 breadth =12.66\n"
     ]
    }
   ],
   "source": [
    "print('radius = {} length = {} breadth ={}'.format(r, l, b))"
   ]
  },
  {
   "cell_type": "code",
   "execution_count": null,
   "id": "02e611b7-fa91-4aee-be9d-a1c30a7fa555",
   "metadata": {},
   "outputs": [],
   "source": [
    "rint('radius = {2} length = {1} breadth ={0}'.format(r, l, b))\n"
   ]
  }
 ],
 "metadata": {
  "kernelspec": {
   "display_name": "Python 3 (ipykernel)",
   "language": "python",
   "name": "python3"
  },
  "language_info": {
   "codemirror_mode": {
    "name": "ipython",
    "version": 3
   },
   "file_extension": ".py",
   "mimetype": "text/x-python",
   "name": "python",
   "nbconvert_exporter": "python",
   "pygments_lexer": "ipython3",
   "version": "3.10.8"
  }
 },
 "nbformat": 4,
 "nbformat_minor": 5
}
