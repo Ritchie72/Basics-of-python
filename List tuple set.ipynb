{
 "cells": [
  {
   "cell_type": "code",
   "execution_count": 25,
   "id": "3006c430-9d8f-422a-9d1a-1ae60fd1420e",
   "metadata": {},
   "outputs": [
    {
     "data": {
      "text/plain": [
       "1"
      ]
     },
     "execution_count": 25,
     "metadata": {},
     "output_type": "execute_result"
    }
   ],
   "source": [
    "True + False"
   ]
  },
  {
   "cell_type": "code",
   "execution_count": 26,
   "id": "e7a01238-0198-4263-bf64-bf4ec2f84b47",
   "metadata": {},
   "outputs": [
    {
     "data": {
      "text/plain": [
       "2"
      ]
     },
     "execution_count": 26,
     "metadata": {},
     "output_type": "execute_result"
    }
   ],
   "source": [
    "True + True"
   ]
  },
  {
   "cell_type": "code",
   "execution_count": 27,
   "id": "eb2e2848-ea82-4fde-a6b4-f855626f3920",
   "metadata": {},
   "outputs": [],
   "source": [
    "a = 1"
   ]
  },
  {
   "cell_type": "code",
   "execution_count": 28,
   "id": "bee4e805-1975-4ec4-b71f-bcdfad9a9873",
   "metadata": {},
   "outputs": [
    {
     "data": {
      "text/plain": [
       "1"
      ]
     },
     "execution_count": 28,
     "metadata": {},
     "output_type": "execute_result"
    }
   ],
   "source": [
    "a"
   ]
  },
  {
   "cell_type": "code",
   "execution_count": 29,
   "id": "c956fd2a-ba56-466b-9dcb-52d624be02a0",
   "metadata": {},
   "outputs": [
    {
     "data": {
      "text/plain": [
       "int"
      ]
     },
     "execution_count": 29,
     "metadata": {},
     "output_type": "execute_result"
    }
   ],
   "source": [
    "type(a)"
   ]
  },
  {
   "cell_type": "code",
   "execution_count": 30,
   "id": "49abe443-9be6-488c-aee8-3fb372cee272",
   "metadata": {},
   "outputs": [],
   "source": [
    "b = 'Harshal'"
   ]
  },
  {
   "cell_type": "code",
   "execution_count": 31,
   "id": "7ff6c105-a0c6-42e3-adbf-31ee6d331146",
   "metadata": {},
   "outputs": [
    {
     "data": {
      "text/plain": [
       "str"
      ]
     },
     "execution_count": 31,
     "metadata": {},
     "output_type": "execute_result"
    }
   ],
   "source": [
    "type(b)\n"
   ]
  },
  {
   "cell_type": "code",
   "execution_count": 32,
   "id": "19c62fff-102a-46ef-9b79-073a7656e7a1",
   "metadata": {},
   "outputs": [],
   "source": [
    "c = 5 + 4j"
   ]
  },
  {
   "cell_type": "code",
   "execution_count": 33,
   "id": "b8433f47-1ace-405f-97c6-8d3d939b4ec5",
   "metadata": {},
   "outputs": [
    {
     "data": {
      "text/plain": [
       "complex"
      ]
     },
     "execution_count": 33,
     "metadata": {},
     "output_type": "execute_result"
    }
   ],
   "source": [
    "type(c)"
   ]
  },
  {
   "cell_type": "code",
   "execution_count": 34,
   "id": "1ecfb038-0c0d-45de-b65f-85e1e32e6038",
   "metadata": {},
   "outputs": [
    {
     "ename": "SyntaxError",
     "evalue": "invalid decimal literal (28589147.py, line 1)",
     "output_type": "error",
     "traceback": [
      "\u001b[0;36m  Cell \u001b[0;32mIn[34], line 1\u001b[0;36m\u001b[0m\n\u001b[0;31m    45fg = 1\u001b[0m\n\u001b[0m     ^\u001b[0m\n\u001b[0;31mSyntaxError\u001b[0m\u001b[0;31m:\u001b[0m invalid decimal literal\n"
     ]
    }
   ],
   "source": [
    "45fg = 1"
   ]
  },
  {
   "cell_type": "code",
   "execution_count": 35,
   "id": "e75e1273-f17f-4ce4-8b8b-68f7ab54f74e",
   "metadata": {},
   "outputs": [
    {
     "data": {
      "text/plain": [
       "(5+4j)"
      ]
     },
     "execution_count": 35,
     "metadata": {},
     "output_type": "execute_result"
    }
   ],
   "source": [
    "c"
   ]
  },
  {
   "cell_type": "code",
   "execution_count": 36,
   "id": "69e86638-8e4b-47cc-87e0-4e170cadca66",
   "metadata": {},
   "outputs": [
    {
     "data": {
      "text/plain": [
       "5.0"
      ]
     },
     "execution_count": 36,
     "metadata": {},
     "output_type": "execute_result"
    }
   ],
   "source": [
    "c.real"
   ]
  },
  {
   "cell_type": "code",
   "execution_count": 37,
   "id": "ab0e5029-5bfd-4592-b9c3-0f3b0003bd43",
   "metadata": {},
   "outputs": [
    {
     "data": {
      "text/plain": [
       "4.0"
      ]
     },
     "execution_count": 37,
     "metadata": {},
     "output_type": "execute_result"
    }
   ],
   "source": [
    "c.imag"
   ]
  },
  {
   "cell_type": "code",
   "execution_count": 38,
   "id": "961f2b36-8d79-4dec-8d2b-837347e7932e",
   "metadata": {},
   "outputs": [
    {
     "data": {
      "text/plain": [
       "<function complex.conjugate()>"
      ]
     },
     "execution_count": 38,
     "metadata": {},
     "output_type": "execute_result"
    }
   ],
   "source": [
    "c.conjugate"
   ]
  },
  {
   "cell_type": "code",
   "execution_count": 39,
   "id": "1ecc42f0-dd51-4bb1-8362-b949043077c2",
   "metadata": {},
   "outputs": [],
   "source": [
    "l = [ 2, 3, 4 , 5.67, 'Harshal' ] "
   ]
  },
  {
   "cell_type": "code",
   "execution_count": 40,
   "id": "a9cecc9d-0d13-4dd6-b43f-518f78faa25d",
   "metadata": {},
   "outputs": [],
   "source": [
    "l[1] = 5 "
   ]
  },
  {
   "cell_type": "code",
   "execution_count": 41,
   "id": "3c45b561-a857-4ce7-bbfb-9b6e8c6557ff",
   "metadata": {},
   "outputs": [
    {
     "data": {
      "text/plain": [
       "[2, 5, 4, 5.67, 'Harshal']"
      ]
     },
     "execution_count": 41,
     "metadata": {},
     "output_type": "execute_result"
    }
   ],
   "source": [
    "l   #reassign"
   ]
  },
  {
   "cell_type": "code",
   "execution_count": 42,
   "id": "2129dbd8-140c-4c0f-84e7-b9a92fdb2478",
   "metadata": {},
   "outputs": [],
   "source": [
    "l[4] = 'IIT Madras'"
   ]
  },
  {
   "cell_type": "code",
   "execution_count": 43,
   "id": "20583c3e-3363-47c9-9bdf-6bdf82f65098",
   "metadata": {},
   "outputs": [
    {
     "data": {
      "text/plain": [
       "'I'"
      ]
     },
     "execution_count": 43,
     "metadata": {},
     "output_type": "execute_result"
    }
   ],
   "source": [
    "l[4][0]"
   ]
  },
  {
   "cell_type": "code",
   "execution_count": 44,
   "id": "8c1ea75e-8f3c-4f65-949c-1344a6aed90e",
   "metadata": {},
   "outputs": [],
   "source": [
    "b = 'Harshal'"
   ]
  },
  {
   "cell_type": "code",
   "execution_count": 45,
   "id": "0e206283-187f-4819-bba5-fa16dbd0144c",
   "metadata": {},
   "outputs": [
    {
     "data": {
      "text/plain": [
       "'Harshal'"
      ]
     },
     "execution_count": 45,
     "metadata": {},
     "output_type": "execute_result"
    }
   ],
   "source": [
    "b"
   ]
  },
  {
   "cell_type": "code",
   "execution_count": 46,
   "id": "77a938e6-1d3d-4a2e-83e0-5e1549b524e6",
   "metadata": {},
   "outputs": [],
   "source": [
    "b = 'Harshall'"
   ]
  },
  {
   "cell_type": "code",
   "execution_count": 47,
   "id": "c36762f5-69b4-4c43-b495-01fc2662d090",
   "metadata": {},
   "outputs": [
    {
     "data": {
      "text/plain": [
       "'Harshall'"
      ]
     },
     "execution_count": 47,
     "metadata": {},
     "output_type": "execute_result"
    }
   ],
   "source": [
    "b"
   ]
  },
  {
   "cell_type": "code",
   "execution_count": 48,
   "id": "1c118874-a7d8-403a-82f5-f3838b2f76f5",
   "metadata": {},
   "outputs": [],
   "source": [
    "#overwriting over the variable and not muatability."
   ]
  },
  {
   "cell_type": "code",
   "execution_count": 49,
   "id": "5a46fc30-4311-4b50-8181-92d3a2b4652b",
   "metadata": {},
   "outputs": [
    {
     "name": "stdout",
     "output_type": "stream",
     "text": [
      "yes\n"
     ]
    }
   ],
   "source": [
    "a = 10\n",
    "if a > 20:\n",
    "    print('no')\n",
    "else:\n",
    "    print('yes')\n",
    "    "
   ]
  },
  {
   "cell_type": "code",
   "execution_count": 50,
   "id": "b4c40c3d-0bf3-4117-a26d-806e83be3e48",
   "metadata": {},
   "outputs": [
    {
     "name": "stdout",
     "output_type": "stream",
     "text": [
      "1\n",
      "2\n"
     ]
    }
   ],
   "source": [
    "n = 4\n",
    "i = 1\n",
    "while i<n:\n",
    "    print(i)\n",
    "    i = i+1\n",
    "    if i == 3:\n",
    "        break\n",
    "else: \n",
    "    print('yes')"
   ]
  },
  {
   "cell_type": "code",
   "execution_count": 51,
   "id": "a642650a-7234-4f53-8d0c-336b1469ff56",
   "metadata": {},
   "outputs": [
    {
     "name": "stdout",
     "output_type": "stream",
     "text": [
      "h\n",
      "a\n",
      "r\n",
      "s\n",
      "h\n",
      "a\n",
      "l\n"
     ]
    }
   ],
   "source": [
    "b = 'harshal'\n",
    "for i in b:\n",
    "    print(i)"
   ]
  },
  {
   "cell_type": "code",
   "execution_count": 52,
   "id": "c10a4d24-0d7e-4c16-9ef8-0a021a815cca",
   "metadata": {},
   "outputs": [
    {
     "name": "stdout",
     "output_type": "stream",
     "text": [
      "h\n",
      "a\n",
      "r\n",
      "s\n",
      "h\n",
      "a\n",
      "l\n"
     ]
    }
   ],
   "source": [
    "for i in range(len(b)):\n",
    "               print(b[i])"
   ]
  },
  {
   "cell_type": "code",
   "execution_count": 53,
   "id": "bde02cd2-5b7e-4b7a-9724-c2d86ad5dfbb",
   "metadata": {},
   "outputs": [],
   "source": [
    "l = [2,3,4,5,6,'harshal','pwskills',23,45,True]"
   ]
  },
  {
   "cell_type": "code",
   "execution_count": 54,
   "id": "6bfc8cab-d9a8-4fb6-a97f-79da5c29fd19",
   "metadata": {},
   "outputs": [
    {
     "name": "stdout",
     "output_type": "stream",
     "text": [
      "<class 'int'>\n",
      "<class 'int'>\n",
      "<class 'int'>\n",
      "<class 'int'>\n",
      "<class 'int'>\n",
      "<class 'str'>\n",
      "<class 'str'>\n",
      "<class 'int'>\n",
      "<class 'int'>\n",
      "<class 'bool'>\n",
      "yes\n"
     ]
    }
   ],
   "source": [
    "for i in l:\n",
    "    print(type(i))\n",
    "    if i ==6:\n",
    "        continue\n",
    "else:\n",
    "    print('yes')\n",
    "    "
   ]
  },
  {
   "cell_type": "code",
   "execution_count": 55,
   "id": "49868030-b4b6-4612-ae3a-0352d2f83ba4",
   "metadata": {},
   "outputs": [
    {
     "data": {
      "text/plain": [
       "[0, 1, 2, 3, 4, 5, 6, 7, 8, 9]"
      ]
     },
     "execution_count": 55,
     "metadata": {},
     "output_type": "execute_result"
    }
   ],
   "source": [
    "list(range(10))\n"
   ]
  },
  {
   "cell_type": "code",
   "execution_count": 56,
   "id": "fe042683-590a-4528-ad05-e4e3a88ea206",
   "metadata": {},
   "outputs": [
    {
     "name": "stdout",
     "output_type": "stream",
     "text": [
      "0\n",
      "1\n",
      "2\n",
      "3\n",
      "4\n",
      "5\n",
      "6\n",
      "7\n",
      "8\n",
      "9\n"
     ]
    }
   ],
   "source": [
    "for i in range(10):\n",
    "    print(i)"
   ]
  },
  {
   "cell_type": "code",
   "execution_count": 57,
   "id": "cde49e7d-464e-4998-a4a2-ede6425fb406",
   "metadata": {},
   "outputs": [],
   "source": [
    "list1 = [x for x in range(10)]"
   ]
  },
  {
   "cell_type": "code",
   "execution_count": 58,
   "id": "492f8779-ce6d-49fb-9fe0-29742ae80275",
   "metadata": {},
   "outputs": [
    {
     "name": "stdout",
     "output_type": "stream",
     "text": [
      "[0, 1, 2, 3, 4, 5, 6, 7, 8, 9]\n"
     ]
    }
   ],
   "source": [
    "print(list1)"
   ]
  },
  {
   "cell_type": "code",
   "execution_count": 59,
   "id": "77f608b7-f430-4e91-99fd-576b5653ff03",
   "metadata": {},
   "outputs": [
    {
     "data": {
      "text/plain": [
       "2"
      ]
     },
     "execution_count": 59,
     "metadata": {},
     "output_type": "execute_result"
    }
   ],
   "source": [
    "1+1"
   ]
  },
  {
   "cell_type": "code",
   "execution_count": 60,
   "id": "0cf0bcf8-8df2-4a10-8407-beee5d72c0e6",
   "metadata": {},
   "outputs": [
    {
     "data": {
      "text/plain": [
       "25"
      ]
     },
     "execution_count": 60,
     "metadata": {},
     "output_type": "execute_result"
    }
   ],
   "source": [
    "5*5"
   ]
  },
  {
   "cell_type": "code",
   "execution_count": 61,
   "id": "b2145d21-cc35-44e3-a482-4704f3ccf30c",
   "metadata": {},
   "outputs": [],
   "source": [
    "a = 10"
   ]
  },
  {
   "cell_type": "code",
   "execution_count": 62,
   "id": "218c1d37-a2c8-407d-aed7-825297ec3dce",
   "metadata": {},
   "outputs": [
    {
     "data": {
      "text/plain": [
       "10"
      ]
     },
     "execution_count": 62,
     "metadata": {},
     "output_type": "execute_result"
    }
   ],
   "source": [
    "a\n"
   ]
  },
  {
   "cell_type": "code",
   "execution_count": 63,
   "id": "ef23e849-424b-49c0-853c-6d85fdb488cb",
   "metadata": {},
   "outputs": [
    {
     "name": "stdout",
     "output_type": "stream",
     "text": [
      "<class 'int'>\n"
     ]
    }
   ],
   "source": [
    "print(type(a))"
   ]
  },
  {
   "cell_type": "code",
   "execution_count": 64,
   "id": "41577508-1948-4445-9f84-e991a72b2625",
   "metadata": {},
   "outputs": [],
   "source": [
    "a = 'harshal'"
   ]
  },
  {
   "cell_type": "code",
   "execution_count": 65,
   "id": "5c1e0b95-f239-4a91-9e47-e6018f0a69ec",
   "metadata": {},
   "outputs": [
    {
     "data": {
      "text/plain": [
       "str"
      ]
     },
     "execution_count": 65,
     "metadata": {},
     "output_type": "execute_result"
    }
   ],
   "source": [
    "type(a)"
   ]
  },
  {
   "cell_type": "code",
   "execution_count": 66,
   "id": "084eb0d0-3dfa-49b1-a42f-436a8e9cea17",
   "metadata": {},
   "outputs": [],
   "source": [
    "b = 2.09 "
   ]
  },
  {
   "cell_type": "code",
   "execution_count": 67,
   "id": "4ccef79f-2d61-400d-ba39-a8adfa86d980",
   "metadata": {},
   "outputs": [
    {
     "data": {
      "text/plain": [
       "type"
      ]
     },
     "execution_count": 67,
     "metadata": {},
     "output_type": "execute_result"
    }
   ],
   "source": [
    "type(float)\n"
   ]
  },
  {
   "cell_type": "code",
   "execution_count": 68,
   "id": "b77e4307-8ffb-4a9e-b440-fef5944210d7",
   "metadata": {},
   "outputs": [
    {
     "data": {
      "text/plain": [
       "float"
      ]
     },
     "execution_count": 68,
     "metadata": {},
     "output_type": "execute_result"
    }
   ],
   "source": [
    "type(b)"
   ]
  },
  {
   "cell_type": "code",
   "execution_count": 69,
   "id": "319783ce-9b30-4886-a3c2-7c177d9b426e",
   "metadata": {},
   "outputs": [],
   "source": [
    "d = 'Harshal'"
   ]
  },
  {
   "cell_type": "code",
   "execution_count": 70,
   "id": "eb03d8bf-c1bb-4da1-bc06-35503c0793dd",
   "metadata": {},
   "outputs": [
    {
     "data": {
      "text/plain": [
       "str"
      ]
     },
     "execution_count": 70,
     "metadata": {},
     "output_type": "execute_result"
    }
   ],
   "source": [
    "type(d)"
   ]
  },
  {
   "cell_type": "code",
   "execution_count": 71,
   "id": "5db5ecd6-ad9e-42c1-a48b-df994d1931c5",
   "metadata": {},
   "outputs": [
    {
     "ename": "SyntaxError",
     "evalue": "unterminated string literal (detected at line 1) (1515837757.py, line 1)",
     "output_type": "error",
     "traceback": [
      "\u001b[0;36m  Cell \u001b[0;32mIn[71], line 1\u001b[0;36m\u001b[0m\n\u001b[0;31m    e = \"This is my first tech class'\u001b[0m\n\u001b[0m        ^\u001b[0m\n\u001b[0;31mSyntaxError\u001b[0m\u001b[0;31m:\u001b[0m unterminated string literal (detected at line 1)\n"
     ]
    }
   ],
   "source": [
    "e = \"This is my first tech class'"
   ]
  },
  {
   "cell_type": "code",
   "execution_count": 72,
   "id": "71dd2cec-9c4f-45cf-9baa-5677be3c61a8",
   "metadata": {},
   "outputs": [
    {
     "ename": "NameError",
     "evalue": "name 'e' is not defined",
     "output_type": "error",
     "traceback": [
      "\u001b[0;31m---------------------------------------------------------------------------\u001b[0m",
      "\u001b[0;31mNameError\u001b[0m                                 Traceback (most recent call last)",
      "Cell \u001b[0;32mIn[72], line 1\u001b[0m\n\u001b[0;32m----> 1\u001b[0m \u001b[38;5;28mprint\u001b[39m(\u001b[43me\u001b[49m)\n",
      "\u001b[0;31mNameError\u001b[0m: name 'e' is not defined"
     ]
    }
   ],
   "source": [
    "print(e)"
   ]
  },
  {
   "cell_type": "code",
   "execution_count": 73,
   "id": "f8e3e3bf-7bcd-40f8-ad20-41354b534c0b",
   "metadata": {},
   "outputs": [],
   "source": [
    "f = True"
   ]
  },
  {
   "cell_type": "code",
   "execution_count": 74,
   "id": "bfe94266-c670-4b9f-99e1-77923b0621a9",
   "metadata": {},
   "outputs": [
    {
     "name": "stdout",
     "output_type": "stream",
     "text": [
      "<class 'bool'>\n"
     ]
    }
   ],
   "source": [
    "print(type(f))"
   ]
  },
  {
   "cell_type": "code",
   "execution_count": 75,
   "id": "e6d1da1a-e9ae-440f-9ef2-45cdbce34558",
   "metadata": {},
   "outputs": [
    {
     "data": {
      "text/plain": [
       "2"
      ]
     },
     "execution_count": 75,
     "metadata": {},
     "output_type": "execute_result"
    }
   ],
   "source": [
    "True + 1"
   ]
  },
  {
   "cell_type": "code",
   "execution_count": 76,
   "id": "0228cf8e-1263-441c-83ce-9192b9e8420d",
   "metadata": {},
   "outputs": [],
   "source": [
    "n = True"
   ]
  },
  {
   "cell_type": "code",
   "execution_count": 77,
   "id": "6f1807a9-f222-42fd-89ac-4d6ca37c2577",
   "metadata": {},
   "outputs": [],
   "source": [
    "m = False"
   ]
  },
  {
   "cell_type": "code",
   "execution_count": 78,
   "id": "c053a4a7-2baf-42d7-a350-15257ea20c47",
   "metadata": {},
   "outputs": [
    {
     "data": {
      "text/plain": [
       "1"
      ]
     },
     "execution_count": 78,
     "metadata": {},
     "output_type": "execute_result"
    }
   ],
   "source": [
    "n+m"
   ]
  },
  {
   "cell_type": "code",
   "execution_count": 79,
   "id": "a5b63e42-9be0-4e19-bf18-5d058a6674ee",
   "metadata": {},
   "outputs": [
    {
     "data": {
      "text/plain": [
       "0"
      ]
     },
     "execution_count": 79,
     "metadata": {},
     "output_type": "execute_result"
    }
   ],
   "source": [
    "n*m"
   ]
  },
  {
   "cell_type": "code",
   "execution_count": 80,
   "id": "94fbca56-8c80-43de-848f-e04eb7f9add4",
   "metadata": {},
   "outputs": [
    {
     "ename": "ZeroDivisionError",
     "evalue": "division by zero",
     "output_type": "error",
     "traceback": [
      "\u001b[0;31m---------------------------------------------------------------------------\u001b[0m",
      "\u001b[0;31mZeroDivisionError\u001b[0m                         Traceback (most recent call last)",
      "Cell \u001b[0;32mIn[80], line 1\u001b[0m\n\u001b[0;32m----> 1\u001b[0m \u001b[43mn\u001b[49m\u001b[38;5;241;43m/\u001b[39;49m\u001b[43mm\u001b[49m\n",
      "\u001b[0;31mZeroDivisionError\u001b[0m: division by zero"
     ]
    }
   ],
   "source": [
    "n/m\n"
   ]
  },
  {
   "cell_type": "code",
   "execution_count": 81,
   "id": "efe518f0-c397-4a5e-b864-b75298d40276",
   "metadata": {},
   "outputs": [],
   "source": [
    "g = 3+4j"
   ]
  },
  {
   "cell_type": "code",
   "execution_count": 82,
   "id": "fb0572e6-1423-4375-86b8-aeba0b7a3c00",
   "metadata": {},
   "outputs": [
    {
     "data": {
      "text/plain": [
       "4.0"
      ]
     },
     "execution_count": 82,
     "metadata": {},
     "output_type": "execute_result"
    }
   ],
   "source": [
    "g.imag"
   ]
  },
  {
   "cell_type": "code",
   "execution_count": 83,
   "id": "320bc2c6-045f-484d-9231-cb040acecf36",
   "metadata": {},
   "outputs": [
    {
     "data": {
      "text/plain": [
       "3.0"
      ]
     },
     "execution_count": 83,
     "metadata": {},
     "output_type": "execute_result"
    }
   ],
   "source": [
    "g.real\n"
   ]
  },
  {
   "cell_type": "code",
   "execution_count": 84,
   "id": "ed0fbfff-f0cb-4ecc-87bf-19a022a0c450",
   "metadata": {},
   "outputs": [
    {
     "data": {
      "text/plain": [
       "float"
      ]
     },
     "execution_count": 84,
     "metadata": {},
     "output_type": "execute_result"
    }
   ],
   "source": [
    "type(g.imag)"
   ]
  },
  {
   "cell_type": "code",
   "execution_count": 85,
   "id": "6f4ea3ba-73b3-4b60-96ed-5899c4ba051e",
   "metadata": {},
   "outputs": [
    {
     "name": "stdout",
     "output_type": "stream",
     "text": [
      "harshal\n"
     ]
    }
   ],
   "source": [
    "print('harshal')"
   ]
  },
  {
   "cell_type": "code",
   "execution_count": 86,
   "id": "2a3feba8-59df-4571-ab21-9e7ec1f5832d",
   "metadata": {},
   "outputs": [],
   "source": [
    "a = 10"
   ]
  },
  {
   "cell_type": "code",
   "execution_count": 87,
   "id": "f526c53e-129a-4fc3-b134-3e3df925ec3e",
   "metadata": {},
   "outputs": [
    {
     "name": "stdout",
     "output_type": "stream",
     "text": [
      "10\n"
     ]
    }
   ],
   "source": [
    "print(a)"
   ]
  },
  {
   "cell_type": "code",
   "execution_count": 88,
   "id": "bedbe4fe-b9b1-4d90-b137-3b166f056666",
   "metadata": {},
   "outputs": [
    {
     "data": {
      "text/plain": [
       "11"
      ]
     },
     "execution_count": 88,
     "metadata": {},
     "output_type": "execute_result"
    }
   ],
   "source": [
    "a+True"
   ]
  },
  {
   "cell_type": "code",
   "execution_count": 89,
   "id": "ceded603-682c-4089-b585-17c674ddbdde",
   "metadata": {},
   "outputs": [],
   "source": [
    "s = 'pwskills'"
   ]
  },
  {
   "cell_type": "code",
   "execution_count": 90,
   "id": "3f92d844-360b-4ec0-b9a5-286721412cde",
   "metadata": {},
   "outputs": [
    {
     "data": {
      "text/plain": [
       "'pws'"
      ]
     },
     "execution_count": 90,
     "metadata": {},
     "output_type": "execute_result"
    }
   ],
   "source": [
    "s[0:3]"
   ]
  },
  {
   "cell_type": "code",
   "execution_count": 91,
   "id": "dfd065f3-eea8-4b33-840e-78b7dbcf4602",
   "metadata": {},
   "outputs": [
    {
     "data": {
      "text/plain": [
       "'ps'"
      ]
     },
     "execution_count": 91,
     "metadata": {},
     "output_type": "execute_result"
    }
   ],
   "source": [
    "s[0:3:2]"
   ]
  },
  {
   "cell_type": "code",
   "execution_count": 92,
   "id": "c060f7d1-56bf-49e4-9715-e04c0423fd48",
   "metadata": {},
   "outputs": [
    {
     "data": {
      "text/plain": [
       "''"
      ]
     },
     "execution_count": 92,
     "metadata": {},
     "output_type": "execute_result"
    }
   ],
   "source": [
    "s[0:3:-1]"
   ]
  },
  {
   "cell_type": "code",
   "execution_count": 93,
   "id": "65c9a1ef-17b1-4de2-95af-5bf6b21eca0d",
   "metadata": {},
   "outputs": [
    {
     "data": {
      "text/plain": [
       "'sllikswp'"
      ]
     },
     "execution_count": 93,
     "metadata": {},
     "output_type": "execute_result"
    }
   ],
   "source": [
    "s[::-1]"
   ]
  },
  {
   "cell_type": "code",
   "execution_count": 94,
   "id": "ce2edee2-1b7d-437e-be80-71e4d55ea4cf",
   "metadata": {},
   "outputs": [
    {
     "data": {
      "text/plain": [
       "'psil'"
      ]
     },
     "execution_count": 94,
     "metadata": {},
     "output_type": "execute_result"
    }
   ],
   "source": [
    "s[0::2]"
   ]
  },
  {
   "cell_type": "code",
   "execution_count": 95,
   "id": "16a25191-695d-4a42-8ed9-b6628d0825bf",
   "metadata": {},
   "outputs": [
    {
     "data": {
      "text/plain": [
       "'psil'"
      ]
     },
     "execution_count": 95,
     "metadata": {},
     "output_type": "execute_result"
    }
   ],
   "source": [
    "s[::2]"
   ]
  },
  {
   "cell_type": "code",
   "execution_count": 96,
   "id": "d4bbfc77-389b-4c9b-8c3d-7f5fdb7a6a0a",
   "metadata": {},
   "outputs": [
    {
     "data": {
      "text/plain": [
       "'lkw'"
      ]
     },
     "execution_count": 96,
     "metadata": {},
     "output_type": "execute_result"
    }
   ],
   "source": [
    "s[::-1][2::2]"
   ]
  },
  {
   "cell_type": "code",
   "execution_count": 97,
   "id": "e9bcebc1-8118-4454-b652-64d7de0904d5",
   "metadata": {},
   "outputs": [
    {
     "data": {
      "text/plain": [
       "''"
      ]
     },
     "execution_count": 97,
     "metadata": {},
     "output_type": "execute_result"
    }
   ],
   "source": [
    "s[2:7:-1]"
   ]
  },
  {
   "cell_type": "code",
   "execution_count": 98,
   "id": "90e3ab74-7478-4184-a186-8d21d0483b5e",
   "metadata": {},
   "outputs": [
    {
     "data": {
      "text/plain": [
       "'slliksw'"
      ]
     },
     "execution_count": 98,
     "metadata": {},
     "output_type": "execute_result"
    }
   ],
   "source": [
    "s[8:0:-1]"
   ]
  },
  {
   "cell_type": "code",
   "execution_count": 99,
   "id": "9c9f438e-fe4c-4c1e-a38c-18835611e626",
   "metadata": {},
   "outputs": [
    {
     "data": {
      "text/plain": [
       "''"
      ]
     },
     "execution_count": 99,
     "metadata": {},
     "output_type": "execute_result"
    }
   ],
   "source": [
    "s[8:0]"
   ]
  },
  {
   "cell_type": "code",
   "execution_count": 100,
   "id": "c3d8c1a2-47d9-40ef-8536-2a2d8eadb6fe",
   "metadata": {},
   "outputs": [
    {
     "data": {
      "text/plain": [
       "''"
      ]
     },
     "execution_count": 100,
     "metadata": {},
     "output_type": "execute_result"
    }
   ],
   "source": [
    "s[-2:-8]"
   ]
  },
  {
   "cell_type": "code",
   "execution_count": 101,
   "id": "74d56063-41de-48d9-babb-76cf871ee916",
   "metadata": {},
   "outputs": [
    {
     "data": {
      "text/plain": [
       "'sllikswp'"
      ]
     },
     "execution_count": 101,
     "metadata": {},
     "output_type": "execute_result"
    }
   ],
   "source": [
    "s[::-1]"
   ]
  },
  {
   "cell_type": "code",
   "execution_count": 102,
   "id": "7a914b29-1049-4e27-8ba2-c95bf2d6e904",
   "metadata": {},
   "outputs": [
    {
     "data": {
      "text/plain": [
       "'slliksw'"
      ]
     },
     "execution_count": 102,
     "metadata": {},
     "output_type": "execute_result"
    }
   ],
   "source": [
    "s[:-8:-1]"
   ]
  },
  {
   "cell_type": "code",
   "execution_count": 103,
   "id": "d37dd576-38a3-4b5a-80ba-e0cfddd2ebe0",
   "metadata": {},
   "outputs": [
    {
     "ename": "IndexError",
     "evalue": "string index out of range",
     "output_type": "error",
     "traceback": [
      "\u001b[0;31m---------------------------------------------------------------------------\u001b[0m",
      "\u001b[0;31mIndexError\u001b[0m                                Traceback (most recent call last)",
      "Cell \u001b[0;32mIn[103], line 1\u001b[0m\n\u001b[0;32m----> 1\u001b[0m \u001b[43ms\u001b[49m\u001b[43m[\u001b[49m\u001b[38;5;241;43m90\u001b[39;49m\u001b[43m]\u001b[49m\n",
      "\u001b[0;31mIndexError\u001b[0m: string index out of range"
     ]
    }
   ],
   "source": [
    "s[90]"
   ]
  },
  {
   "cell_type": "code",
   "execution_count": 104,
   "id": "6b05048f-7702-4288-9027-2cdc293fac3a",
   "metadata": {},
   "outputs": [
    {
     "data": {
      "text/plain": [
       "'p'"
      ]
     },
     "execution_count": 104,
     "metadata": {},
     "output_type": "execute_result"
    }
   ],
   "source": [
    "s[-8]"
   ]
  },
  {
   "cell_type": "code",
   "execution_count": 105,
   "id": "80e55d6d-11cc-4541-847d-866742e67be4",
   "metadata": {},
   "outputs": [
    {
     "data": {
      "text/plain": [
       "''"
      ]
     },
     "execution_count": 105,
     "metadata": {},
     "output_type": "execute_result"
    }
   ],
   "source": [
    "s[:-90:]"
   ]
  },
  {
   "cell_type": "code",
   "execution_count": 106,
   "id": "382ee17e-1f65-4bb2-b17b-299d67195c2c",
   "metadata": {},
   "outputs": [],
   "source": [
    "s1 = 'my name is harshal'"
   ]
  },
  {
   "cell_type": "code",
   "execution_count": 107,
   "id": "bac7ba85-e10f-4695-a2e6-f16de8047127",
   "metadata": {},
   "outputs": [
    {
     "name": "stdout",
     "output_type": "stream",
     "text": [
      "18\n"
     ]
    }
   ],
   "source": [
    "print(len(s1))"
   ]
  },
  {
   "cell_type": "code",
   "execution_count": 108,
   "id": "6aa519a5-7a05-4e2e-85ac-626e8df1adac",
   "metadata": {},
   "outputs": [
    {
     "data": {
      "text/plain": [
       "4"
      ]
     },
     "execution_count": 108,
     "metadata": {},
     "output_type": "execute_result"
    }
   ],
   "source": [
    "s1.find('a')"
   ]
  },
  {
   "cell_type": "code",
   "execution_count": 109,
   "id": "c5be44e5-8010-42f1-8ff9-b27ca0b0f9a5",
   "metadata": {},
   "outputs": [
    {
     "data": {
      "text/plain": [
       "8"
      ]
     },
     "execution_count": 109,
     "metadata": {},
     "output_type": "execute_result"
    }
   ],
   "source": [
    "s1.find('is')"
   ]
  },
  {
   "cell_type": "code",
   "execution_count": 110,
   "id": "ff1961ac-cd6f-458a-b50f-90713a78d8b0",
   "metadata": {},
   "outputs": [
    {
     "data": {
      "text/plain": [
       "3"
      ]
     },
     "execution_count": 110,
     "metadata": {},
     "output_type": "execute_result"
    }
   ],
   "source": [
    "s1.count('a')"
   ]
  },
  {
   "cell_type": "code",
   "execution_count": 111,
   "id": "e325e679-0385-486b-a2b7-7143d8d8475d",
   "metadata": {},
   "outputs": [
    {
     "data": {
      "text/plain": [
       "'MY NAME IS HARSHAL'"
      ]
     },
     "execution_count": 111,
     "metadata": {},
     "output_type": "execute_result"
    }
   ],
   "source": [
    "s1.upper()"
   ]
  },
  {
   "cell_type": "code",
   "execution_count": 112,
   "id": "60505588-f5cc-45d7-a312-0a191933378a",
   "metadata": {},
   "outputs": [],
   "source": [
    "s2 = 'MY NAME IS HARSHAL'"
   ]
  },
  {
   "cell_type": "code",
   "execution_count": 113,
   "id": "2dd66503-8400-4dbe-9418-33af398ca090",
   "metadata": {},
   "outputs": [
    {
     "data": {
      "text/plain": [
       "'my name is harshal'"
      ]
     },
     "execution_count": 113,
     "metadata": {},
     "output_type": "execute_result"
    }
   ],
   "source": [
    "s2.lower()"
   ]
  },
  {
   "cell_type": "code",
   "execution_count": 114,
   "id": "461c24a8-e524-4d29-9156-b2e0f998e93b",
   "metadata": {},
   "outputs": [
    {
     "data": {
      "text/plain": [
       "'My name is harshal'"
      ]
     },
     "execution_count": 114,
     "metadata": {},
     "output_type": "execute_result"
    }
   ],
   "source": [
    "s2.capitalize()"
   ]
  },
  {
   "cell_type": "code",
   "execution_count": 115,
   "id": "a3222f2b-2f72-4d26-9b83-faea98075ee2",
   "metadata": {},
   "outputs": [
    {
     "data": {
      "text/plain": [
       "2"
      ]
     },
     "execution_count": 115,
     "metadata": {},
     "output_type": "execute_result"
    }
   ],
   "source": [
    "s2.index(' ')"
   ]
  },
  {
   "cell_type": "code",
   "execution_count": 116,
   "id": "99079fae-5e9d-4f01-bd1b-3ff2aca264b8",
   "metadata": {},
   "outputs": [
    {
     "data": {
      "text/plain": [
       "'MY NAME IS HARSHALMY NAME IS HARSHALMY NAME IS HARSHAL'"
      ]
     },
     "execution_count": 116,
     "metadata": {},
     "output_type": "execute_result"
    }
   ],
   "source": [
    "s2*3"
   ]
  },
  {
   "cell_type": "code",
   "execution_count": 117,
   "id": "eff2dcfc-00b1-4a16-82f8-ead8bc8e1981",
   "metadata": {},
   "outputs": [],
   "source": [
    "#comment function."
   ]
  },
  {
   "cell_type": "code",
   "execution_count": 118,
   "id": "ceef6d5a-617a-4edf-a05e-897005b910ff",
   "metadata": {},
   "outputs": [],
   "source": [
    "##can be use for comment\n"
   ]
  },
  {
   "cell_type": "code",
   "execution_count": 119,
   "id": "15cac041-24b3-40c1-ad3a-5b8a59f46d66",
   "metadata": {},
   "outputs": [],
   "source": [
    "# i ams harshal\n",
    "# i am an iitm syudent \n",
    "# i am XRIG head"
   ]
  },
  {
   "cell_type": "code",
   "execution_count": 120,
   "id": "92261176-5930-48da-8f30-4eb034c620e4",
   "metadata": {},
   "outputs": [],
   "source": [
    "##list tuple set and dictionary"
   ]
  },
  {
   "cell_type": "code",
   "execution_count": 121,
   "id": "fc5b8d3b-ec16-498d-b56b-a6c07dc25a9e",
   "metadata": {},
   "outputs": [],
   "source": [
    "l = [1,2,3,4,5+6j]"
   ]
  },
  {
   "cell_type": "code",
   "execution_count": 122,
   "id": "c7b779cc-6af7-44b2-b69d-203c5af46a18",
   "metadata": {},
   "outputs": [
    {
     "data": {
      "text/plain": [
       "list"
      ]
     },
     "execution_count": 122,
     "metadata": {},
     "output_type": "execute_result"
    }
   ],
   "source": [
    "type(l)"
   ]
  },
  {
   "cell_type": "code",
   "execution_count": 123,
   "id": "4df669db-d863-4437-b42f-0b8e1cbc4d6b",
   "metadata": {},
   "outputs": [
    {
     "data": {
      "text/plain": [
       "1"
      ]
     },
     "execution_count": 123,
     "metadata": {},
     "output_type": "execute_result"
    }
   ],
   "source": [
    "l[0]"
   ]
  },
  {
   "cell_type": "code",
   "execution_count": 124,
   "id": "6185d9b7-521d-49fd-b020-9fe1d0f91f5b",
   "metadata": {},
   "outputs": [
    {
     "name": "stdout",
     "output_type": "stream",
     "text": [
      "1\n",
      "2\n",
      "3\n",
      "4\n",
      "(5+6j)\n"
     ]
    }
   ],
   "source": [
    "for i in range(len(l)):\n",
    "    print(l[i])"
   ]
  },
  {
   "cell_type": "code",
   "execution_count": 125,
   "id": "4d3a4b12-3a6c-482b-92fb-73ffc7ab0b35",
   "metadata": {},
   "outputs": [
    {
     "data": {
      "text/plain": [
       "[1, 3]"
      ]
     },
     "execution_count": 125,
     "metadata": {},
     "output_type": "execute_result"
    }
   ],
   "source": [
    "l[0:3:2]"
   ]
  },
  {
   "cell_type": "code",
   "execution_count": 126,
   "id": "b9b25a48-f4f4-4b72-a2d2-7a2f8fcfd281",
   "metadata": {},
   "outputs": [
    {
     "data": {
      "text/plain": [
       "(5+6j)"
      ]
     },
     "execution_count": 126,
     "metadata": {},
     "output_type": "execute_result"
    }
   ],
   "source": [
    "l[-1]"
   ]
  },
  {
   "cell_type": "code",
   "execution_count": 127,
   "id": "7d06f262-e24b-4c1c-8145-5e807ce1a64e",
   "metadata": {},
   "outputs": [
    {
     "data": {
      "text/plain": [
       "[(5+6j), 4, 3, 2, 1]"
      ]
     },
     "execution_count": 127,
     "metadata": {},
     "output_type": "execute_result"
    }
   ],
   "source": [
    "l[::-1]"
   ]
  },
  {
   "cell_type": "code",
   "execution_count": 128,
   "id": "a5ef9798-9a0c-40a0-88d7-b0214c014df3",
   "metadata": {},
   "outputs": [
    {
     "data": {
      "text/plain": [
       "[1, 3, (5+6j)]"
      ]
     },
     "execution_count": 128,
     "metadata": {},
     "output_type": "execute_result"
    }
   ],
   "source": [
    "l[0::2]"
   ]
  },
  {
   "cell_type": "code",
   "execution_count": 129,
   "id": "06803037-97aa-44c8-aa45-dd0cc7dab1d7",
   "metadata": {},
   "outputs": [],
   "source": [
    "l.append('harshal')"
   ]
  },
  {
   "cell_type": "code",
   "execution_count": 130,
   "id": "5eb39d7f-c025-4c5e-8b5f-85334335fabe",
   "metadata": {},
   "outputs": [
    {
     "name": "stdout",
     "output_type": "stream",
     "text": [
      "[1, 2, 3, 4, (5+6j), 'harshal']\n"
     ]
    }
   ],
   "source": [
    "print(l)"
   ]
  },
  {
   "cell_type": "code",
   "execution_count": 131,
   "id": "be16d4eb-9516-4272-825d-4e28b70d3ac9",
   "metadata": {},
   "outputs": [
    {
     "data": {
      "text/plain": [
       "['h', 'a', 'r', 's', 'h', 'a', 'l']"
      ]
     },
     "execution_count": 131,
     "metadata": {},
     "output_type": "execute_result"
    }
   ],
   "source": [
    "list('harshal')"
   ]
  },
  {
   "cell_type": "code",
   "execution_count": 132,
   "id": "d0c02b4f-bf04-4afd-94fb-2d140e5f9b89",
   "metadata": {},
   "outputs": [
    {
     "data": {
      "text/plain": [
       "[1, 2, 3, 4, (5+6j), 'harshal']"
      ]
     },
     "execution_count": 132,
     "metadata": {},
     "output_type": "execute_result"
    }
   ],
   "source": [
    "l"
   ]
  },
  {
   "cell_type": "code",
   "execution_count": 133,
   "id": "60bb2da9-a65d-4352-8663-05d30357f773",
   "metadata": {},
   "outputs": [
    {
     "data": {
      "text/plain": [
       "'ar'"
      ]
     },
     "execution_count": 133,
     "metadata": {},
     "output_type": "execute_result"
    }
   ],
   "source": [
    "l[5][1:3]"
   ]
  },
  {
   "cell_type": "code",
   "execution_count": 134,
   "id": "1a213f6b-0418-4097-8683-827bf05b21c6",
   "metadata": {},
   "outputs": [],
   "source": [
    "l.append(True)"
   ]
  },
  {
   "cell_type": "code",
   "execution_count": 135,
   "id": "1b04d92e-9b0f-4fe2-95ac-c32ec5909506",
   "metadata": {},
   "outputs": [
    {
     "data": {
      "text/plain": [
       "'Tr'"
      ]
     },
     "execution_count": 135,
     "metadata": {},
     "output_type": "execute_result"
    }
   ],
   "source": [
    "str(l[6])[0:2]"
   ]
  },
  {
   "cell_type": "code",
   "execution_count": 136,
   "id": "fe09f77a-1499-4194-b89e-de2844cd9f95",
   "metadata": {},
   "outputs": [
    {
     "data": {
      "text/plain": [
       "2"
      ]
     },
     "execution_count": 136,
     "metadata": {},
     "output_type": "execute_result"
    }
   ],
   "source": [
    "l.count(1)"
   ]
  },
  {
   "cell_type": "code",
   "execution_count": 137,
   "id": "1f130a77-e498-4c86-9988-f0ebbd110a1e",
   "metadata": {},
   "outputs": [
    {
     "data": {
      "text/plain": [
       "1"
      ]
     },
     "execution_count": 137,
     "metadata": {},
     "output_type": "execute_result"
    }
   ],
   "source": [
    "l.count(2)"
   ]
  },
  {
   "cell_type": "code",
   "execution_count": 138,
   "id": "8834bacd-6180-4104-82ec-5ce172b75e4c",
   "metadata": {},
   "outputs": [],
   "source": [
    "l.extend([2,3,4])"
   ]
  },
  {
   "cell_type": "code",
   "execution_count": 139,
   "id": "caeb1d21-0d4b-4c1a-99ca-7cbf8443fc05",
   "metadata": {},
   "outputs": [
    {
     "name": "stdout",
     "output_type": "stream",
     "text": [
      "[1, 2, 3, 4, (5+6j), 'harshal', True, 2, 3, 4]\n"
     ]
    }
   ],
   "source": [
    "print(l)"
   ]
  },
  {
   "cell_type": "code",
   "execution_count": 140,
   "id": "d471a655-9884-44d9-b168-88d7f735548b",
   "metadata": {},
   "outputs": [],
   "source": [
    "l.insert(1,5)"
   ]
  },
  {
   "cell_type": "code",
   "execution_count": 141,
   "id": "9e3f0530-21fe-4ea9-947b-084d2c24b6f0",
   "metadata": {},
   "outputs": [
    {
     "data": {
      "text/plain": [
       "[1, 5, 2, 3, 4, (5+6j), 'harshal', True, 2, 3, 4]"
      ]
     },
     "execution_count": 141,
     "metadata": {},
     "output_type": "execute_result"
    }
   ],
   "source": [
    "l\n"
   ]
  },
  {
   "cell_type": "code",
   "execution_count": 142,
   "id": "4fa6e0c7-5685-4313-99d6-c7009160891e",
   "metadata": {},
   "outputs": [],
   "source": [
    "l.insert(-1,45)"
   ]
  },
  {
   "cell_type": "code",
   "execution_count": 143,
   "id": "3b8223d4-a94c-4101-aa57-706b222a2181",
   "metadata": {},
   "outputs": [
    {
     "name": "stdout",
     "output_type": "stream",
     "text": [
      "[1, 5, 2, 3, 4, (5+6j), 'harshal', True, 2, 3, 45, 4]\n"
     ]
    }
   ],
   "source": [
    "print(l)"
   ]
  },
  {
   "cell_type": "code",
   "execution_count": 144,
   "id": "a875a06c-ec3e-4bd6-a99e-3869ee85910e",
   "metadata": {},
   "outputs": [
    {
     "data": {
      "text/plain": [
       "4"
      ]
     },
     "execution_count": 144,
     "metadata": {},
     "output_type": "execute_result"
    }
   ],
   "source": [
    "l.pop()"
   ]
  },
  {
   "cell_type": "code",
   "execution_count": 145,
   "id": "74205bae-9ed3-407e-bc41-d7214d98cd72",
   "metadata": {},
   "outputs": [
    {
     "data": {
      "text/plain": [
       "[1, 5, 2, 3, 4, (5+6j), 'harshal', True, 2, 3, 45]"
      ]
     },
     "execution_count": 145,
     "metadata": {},
     "output_type": "execute_result"
    }
   ],
   "source": [
    "l"
   ]
  },
  {
   "cell_type": "code",
   "execution_count": 146,
   "id": "c870e1b4-a87b-4d0b-9712-cb971f04f40c",
   "metadata": {},
   "outputs": [
    {
     "data": {
      "text/plain": [
       "3"
      ]
     },
     "execution_count": 146,
     "metadata": {},
     "output_type": "execute_result"
    }
   ],
   "source": [
    "l.pop(3)"
   ]
  },
  {
   "cell_type": "code",
   "execution_count": 147,
   "id": "f6defbc9-f387-4de4-bd1a-e7b2610d89c3",
   "metadata": {},
   "outputs": [
    {
     "data": {
      "text/plain": [
       "[1, 5, 2, 4, (5+6j), 'harshal', True, 2, 3, 45]"
      ]
     },
     "execution_count": 147,
     "metadata": {},
     "output_type": "execute_result"
    }
   ],
   "source": [
    "l"
   ]
  },
  {
   "cell_type": "code",
   "execution_count": 148,
   "id": "a2a69def-40ba-4a51-bab0-4c3638bb8f16",
   "metadata": {},
   "outputs": [],
   "source": [
    "l.extend('harshal')"
   ]
  },
  {
   "cell_type": "code",
   "execution_count": 149,
   "id": "36432cd7-3626-4b99-9c5c-23b514e434c0",
   "metadata": {},
   "outputs": [
    {
     "data": {
      "text/plain": [
       "[1,\n",
       " 5,\n",
       " 2,\n",
       " 4,\n",
       " (5+6j),\n",
       " 'harshal',\n",
       " True,\n",
       " 2,\n",
       " 3,\n",
       " 45,\n",
       " 'h',\n",
       " 'a',\n",
       " 'r',\n",
       " 's',\n",
       " 'h',\n",
       " 'a',\n",
       " 'l']"
      ]
     },
     "execution_count": 149,
     "metadata": {},
     "output_type": "execute_result"
    }
   ],
   "source": [
    "l"
   ]
  },
  {
   "cell_type": "code",
   "execution_count": 150,
   "id": "60a57f55-cad8-4e49-bd92-a6ad38ad7944",
   "metadata": {},
   "outputs": [
    {
     "data": {
      "text/plain": [
       "'l'"
      ]
     },
     "execution_count": 150,
     "metadata": {},
     "output_type": "execute_result"
    }
   ],
   "source": [
    "l.pop()"
   ]
  },
  {
   "cell_type": "code",
   "execution_count": 151,
   "id": "ef029c1b-ebcf-4f19-b317-7b6161861e1f",
   "metadata": {},
   "outputs": [],
   "source": [
    "l.remove(5)"
   ]
  },
  {
   "cell_type": "code",
   "execution_count": 152,
   "id": "fddde50f-b59c-4d84-95b1-eddb712cc04d",
   "metadata": {},
   "outputs": [
    {
     "data": {
      "text/plain": [
       "[1, 2, 4, (5+6j), 'harshal', True, 2, 3, 45, 'h', 'a', 'r', 's', 'h', 'a']"
      ]
     },
     "execution_count": 152,
     "metadata": {},
     "output_type": "execute_result"
    }
   ],
   "source": [
    "l"
   ]
  },
  {
   "cell_type": "code",
   "execution_count": 153,
   "id": "cd63e73e-a83f-44c7-b8ab-386ca25f687d",
   "metadata": {},
   "outputs": [],
   "source": [
    "l1 = [45,'harshal',[2,3,4,5]]"
   ]
  },
  {
   "cell_type": "code",
   "execution_count": 154,
   "id": "45a5f559-a30b-4025-89c2-e401a3cdad20",
   "metadata": {},
   "outputs": [],
   "source": [
    "l1[2].remove(3)"
   ]
  },
  {
   "cell_type": "code",
   "execution_count": 155,
   "id": "b3c576cd-0e41-4d8e-84ff-9acc5daba52d",
   "metadata": {},
   "outputs": [
    {
     "data": {
      "text/plain": [
       "[45, 'harshal', [2, 4, 5]]"
      ]
     },
     "execution_count": 155,
     "metadata": {},
     "output_type": "execute_result"
    }
   ],
   "source": [
    "l1"
   ]
  },
  {
   "cell_type": "code",
   "execution_count": 156,
   "id": "62db70ee-daa3-430a-8032-0d412a149582",
   "metadata": {},
   "outputs": [
    {
     "ename": "AttributeError",
     "evalue": "'str' object has no attribute 'remove'",
     "output_type": "error",
     "traceback": [
      "\u001b[0;31m---------------------------------------------------------------------------\u001b[0m",
      "\u001b[0;31mAttributeError\u001b[0m                            Traceback (most recent call last)",
      "Cell \u001b[0;32mIn[156], line 1\u001b[0m\n\u001b[0;32m----> 1\u001b[0m \u001b[43ml1\u001b[49m\u001b[43m[\u001b[49m\u001b[38;5;241;43m1\u001b[39;49m\u001b[43m]\u001b[49m\u001b[38;5;241;43m.\u001b[39;49m\u001b[43mremove\u001b[49m(\u001b[38;5;124m'\u001b[39m\u001b[38;5;124mh\u001b[39m\u001b[38;5;124m'\u001b[39m)\n",
      "\u001b[0;31mAttributeError\u001b[0m: 'str' object has no attribute 'remove'"
     ]
    }
   ],
   "source": [
    "l1[1].remove('h')"
   ]
  },
  {
   "cell_type": "code",
   "execution_count": 157,
   "id": "57789719-7d7c-451b-9be3-5b9117b9ab00",
   "metadata": {},
   "outputs": [
    {
     "data": {
      "text/plain": [
       "[[2, 4, 5], 'harshal', 45]"
      ]
     },
     "execution_count": 157,
     "metadata": {},
     "output_type": "execute_result"
    }
   ],
   "source": [
    "l1[::-1]"
   ]
  },
  {
   "cell_type": "code",
   "execution_count": 158,
   "id": "c2aceae2-02b4-4423-8873-f84a2e6493fb",
   "metadata": {},
   "outputs": [],
   "source": [
    "l1.reverse()"
   ]
  },
  {
   "cell_type": "code",
   "execution_count": 159,
   "id": "53ee126d-64b3-4b54-a102-e425f7bed6ea",
   "metadata": {},
   "outputs": [
    {
     "data": {
      "text/plain": [
       "[[2, 4, 5], 'harshal', 45]"
      ]
     },
     "execution_count": 159,
     "metadata": {},
     "output_type": "execute_result"
    }
   ],
   "source": [
    "l1"
   ]
  },
  {
   "cell_type": "code",
   "execution_count": 160,
   "id": "5d6c6670-4f63-4174-b987-c112064a6a78",
   "metadata": {},
   "outputs": [],
   "source": [
    "l2 = [45,33,8,3,4,5,6]"
   ]
  },
  {
   "cell_type": "code",
   "execution_count": 161,
   "id": "df139b66-9cfa-46ad-b49d-0f2ba2ae2fea",
   "metadata": {},
   "outputs": [],
   "source": [
    "l2.sort()"
   ]
  },
  {
   "cell_type": "code",
   "execution_count": 162,
   "id": "2a4b87ba-132e-4fcd-8ceb-5daaa8e94c10",
   "metadata": {},
   "outputs": [
    {
     "data": {
      "text/plain": [
       "[3, 4, 5, 6, 8, 33, 45]"
      ]
     },
     "execution_count": 162,
     "metadata": {},
     "output_type": "execute_result"
    }
   ],
   "source": [
    "l2"
   ]
  },
  {
   "cell_type": "code",
   "execution_count": 163,
   "id": "260189c5-2b4e-4c62-9281-1be30294d379",
   "metadata": {},
   "outputs": [],
   "source": [
    "##for sort will do comaprison with similar data types"
   ]
  },
  {
   "cell_type": "code",
   "execution_count": 164,
   "id": "0953dfa8-7ee1-44a5-9d87-aea16fe57890",
   "metadata": {},
   "outputs": [
    {
     "ename": "TypeError",
     "evalue": "'<' not supported between instances of 'complex' and 'int'",
     "output_type": "error",
     "traceback": [
      "\u001b[0;31m---------------------------------------------------------------------------\u001b[0m",
      "\u001b[0;31mTypeError\u001b[0m                                 Traceback (most recent call last)",
      "Cell \u001b[0;32mIn[164], line 1\u001b[0m\n\u001b[0;32m----> 1\u001b[0m \u001b[43ml\u001b[49m\u001b[38;5;241;43m.\u001b[39;49m\u001b[43msort\u001b[49m\u001b[43m(\u001b[49m\u001b[43m)\u001b[49m\n",
      "\u001b[0;31mTypeError\u001b[0m: '<' not supported between instances of 'complex' and 'int'"
     ]
    }
   ],
   "source": [
    "l.sort()"
   ]
  },
  {
   "cell_type": "code",
   "execution_count": 165,
   "id": "42f54a51-a356-4392-9809-056f0b26e001",
   "metadata": {},
   "outputs": [],
   "source": [
    "l2.sort(reverse = True)"
   ]
  },
  {
   "cell_type": "code",
   "execution_count": 166,
   "id": "f9a594ac-f7da-4b3a-b136-780476b468b8",
   "metadata": {},
   "outputs": [
    {
     "data": {
      "text/plain": [
       "[45, 33, 8, 6, 5, 4, 3]"
      ]
     },
     "execution_count": 166,
     "metadata": {},
     "output_type": "execute_result"
    }
   ],
   "source": [
    "l2"
   ]
  },
  {
   "cell_type": "code",
   "execution_count": 167,
   "id": "498ee290-8e13-4e81-8042-a8f01a72e96d",
   "metadata": {},
   "outputs": [],
   "source": [
    "s1 = 'harshal'"
   ]
  },
  {
   "cell_type": "code",
   "execution_count": 168,
   "id": "893b6e26-65ef-453f-878e-f414145025cc",
   "metadata": {},
   "outputs": [
    {
     "data": {
      "text/plain": [
       "'aarsaal'"
      ]
     },
     "execution_count": 168,
     "metadata": {},
     "output_type": "execute_result"
    }
   ],
   "source": [
    "s1.replace('h','a')"
   ]
  },
  {
   "cell_type": "code",
   "execution_count": 169,
   "id": "fddbc38a-c03a-48bb-addc-7f010f1a2a2f",
   "metadata": {},
   "outputs": [
    {
     "data": {
      "text/plain": [
       "'harshal'"
      ]
     },
     "execution_count": 169,
     "metadata": {},
     "output_type": "execute_result"
    }
   ],
   "source": [
    "s1"
   ]
  },
  {
   "cell_type": "code",
   "execution_count": 170,
   "id": "ecd2fac5-b13b-4582-b671-93d5f95601a9",
   "metadata": {},
   "outputs": [],
   "source": [
    "#not permanaent replacement,"
   ]
  },
  {
   "cell_type": "code",
   "execution_count": 171,
   "id": "62215d01-76f9-4b2f-9594-cca6fb44f483",
   "metadata": {},
   "outputs": [],
   "source": [
    "##Tuple"
   ]
  },
  {
   "cell_type": "code",
   "execution_count": 172,
   "id": "ead03be8-fc23-4121-898e-f46fd3e48dbc",
   "metadata": {},
   "outputs": [],
   "source": [
    "t = (2,3.4,'harshal')"
   ]
  },
  {
   "cell_type": "code",
   "execution_count": 173,
   "id": "12aa58ab-0992-43af-889c-6a3b9d5c1cb4",
   "metadata": {},
   "outputs": [
    {
     "name": "stdout",
     "output_type": "stream",
     "text": [
      "3\n"
     ]
    }
   ],
   "source": [
    "print(len(t))"
   ]
  },
  {
   "cell_type": "code",
   "execution_count": 174,
   "id": "e9096d4e-2d87-4295-b642-f6ca00c70678",
   "metadata": {},
   "outputs": [
    {
     "data": {
      "text/plain": [
       "2"
      ]
     },
     "execution_count": 174,
     "metadata": {},
     "output_type": "execute_result"
    }
   ],
   "source": [
    "t[0]"
   ]
  },
  {
   "cell_type": "code",
   "execution_count": 175,
   "id": "2d7e6869-3e0c-42c5-ab13-892e20ad7e4e",
   "metadata": {},
   "outputs": [
    {
     "data": {
      "text/plain": [
       "1"
      ]
     },
     "execution_count": 175,
     "metadata": {},
     "output_type": "execute_result"
    }
   ],
   "source": [
    "t.count(2)"
   ]
  },
  {
   "cell_type": "code",
   "execution_count": 176,
   "id": "5e14caf0-0cb7-41b2-8e2e-994692351141",
   "metadata": {},
   "outputs": [
    {
     "data": {
      "text/plain": [
       "0"
      ]
     },
     "execution_count": 176,
     "metadata": {},
     "output_type": "execute_result"
    }
   ],
   "source": [
    "t.index(2)"
   ]
  },
  {
   "cell_type": "code",
   "execution_count": 177,
   "id": "0ba86fbd-3bcf-4127-bbe9-e96c456aa8f3",
   "metadata": {},
   "outputs": [
    {
     "data": {
      "text/plain": [
       "1"
      ]
     },
     "execution_count": 177,
     "metadata": {},
     "output_type": "execute_result"
    }
   ],
   "source": [
    "t.count(2)"
   ]
  },
  {
   "cell_type": "code",
   "execution_count": 178,
   "id": "1d6390b5-3d2a-42d5-b844-228770dd3309",
   "metadata": {},
   "outputs": [
    {
     "data": {
      "text/plain": [
       "0"
      ]
     },
     "execution_count": 178,
     "metadata": {},
     "output_type": "execute_result"
    }
   ],
   "source": [
    "t.index(2)"
   ]
  },
  {
   "cell_type": "code",
   "execution_count": 179,
   "id": "ccd658fc-c261-4eac-8e15-41e8242942df",
   "metadata": {},
   "outputs": [
    {
     "data": {
      "text/plain": [
       "(2, 3.4)"
      ]
     },
     "execution_count": 179,
     "metadata": {},
     "output_type": "execute_result"
    }
   ],
   "source": [
    "t[0:2]"
   ]
  },
  {
   "cell_type": "code",
   "execution_count": 180,
   "id": "15f9b525-6fb0-47ea-95b1-698ffdbcbf60",
   "metadata": {},
   "outputs": [
    {
     "ename": "TypeError",
     "evalue": "'tuple' object does not support item assignment",
     "output_type": "error",
     "traceback": [
      "\u001b[0;31m---------------------------------------------------------------------------\u001b[0m",
      "\u001b[0;31mTypeError\u001b[0m                                 Traceback (most recent call last)",
      "Cell \u001b[0;32mIn[180], line 1\u001b[0m\n\u001b[0;32m----> 1\u001b[0m \u001b[43mt\u001b[49m\u001b[43m[\u001b[49m\u001b[38;5;241;43m0\u001b[39;49m\u001b[43m]\u001b[49m \u001b[38;5;241m=\u001b[39m \u001b[38;5;241m45\u001b[39m\n",
      "\u001b[0;31mTypeError\u001b[0m: 'tuple' object does not support item assignment"
     ]
    }
   ],
   "source": [
    "t[0] = 45"
   ]
  },
  {
   "cell_type": "code",
   "execution_count": 181,
   "id": "921ab784-c493-4e76-a9ba-27d011242e07",
   "metadata": {},
   "outputs": [
    {
     "data": {
      "text/plain": [
       "('harshal', 3.4, 2)"
      ]
     },
     "execution_count": 181,
     "metadata": {},
     "output_type": "execute_result"
    }
   ],
   "source": [
    "t[::-1]"
   ]
  },
  {
   "cell_type": "code",
   "execution_count": 182,
   "id": "a8bfe5c1-5e01-4e12-8323-09eec603a4a3",
   "metadata": {},
   "outputs": [],
   "source": [
    "t = t[::-1]"
   ]
  },
  {
   "cell_type": "code",
   "execution_count": 183,
   "id": "cae93dcd-20cd-410a-956e-16b4b2230338",
   "metadata": {},
   "outputs": [
    {
     "data": {
      "text/plain": [
       "('harshal', 3.4, 2)"
      ]
     },
     "execution_count": 183,
     "metadata": {},
     "output_type": "execute_result"
    }
   ],
   "source": [
    "t\n"
   ]
  },
  {
   "cell_type": "code",
   "execution_count": 184,
   "id": "5f23c5bf-61d9-4c3f-9a8f-a7bb9f947a4a",
   "metadata": {},
   "outputs": [],
   "source": [
    "s1 = {}"
   ]
  },
  {
   "cell_type": "code",
   "execution_count": 185,
   "id": "5dde89b6-cc1b-4a20-ac65-dfd227793444",
   "metadata": {},
   "outputs": [
    {
     "data": {
      "text/plain": [
       "dict"
      ]
     },
     "execution_count": 185,
     "metadata": {},
     "output_type": "execute_result"
    }
   ],
   "source": [
    "type(s1)"
   ]
  },
  {
   "cell_type": "code",
   "execution_count": 186,
   "id": "7cc2eac7-b361-4893-b520-4e22807185d6",
   "metadata": {},
   "outputs": [],
   "source": [
    "s2 = {1,2,3}"
   ]
  },
  {
   "cell_type": "code",
   "execution_count": 187,
   "id": "2bce4cf8-81a4-4ddd-b3a9-3e4145275426",
   "metadata": {},
   "outputs": [
    {
     "data": {
      "text/plain": [
       "set"
      ]
     },
     "execution_count": 187,
     "metadata": {},
     "output_type": "execute_result"
    }
   ],
   "source": [
    "type(s2)"
   ]
  },
  {
   "cell_type": "code",
   "execution_count": 188,
   "id": "6f985f8f-9f11-43fd-ac64-0a1d66bf46c9",
   "metadata": {},
   "outputs": [],
   "source": [
    "s4 = {1,11,1,1,2,2,2,3,3,4,3,2,4}"
   ]
  },
  {
   "cell_type": "code",
   "execution_count": 189,
   "id": "ed7ac458-f079-4201-b09f-e97482ec2799",
   "metadata": {},
   "outputs": [
    {
     "data": {
      "text/plain": [
       "{1, 2, 3, 4, 11}"
      ]
     },
     "execution_count": 189,
     "metadata": {},
     "output_type": "execute_result"
    }
   ],
   "source": [
    "s4"
   ]
  },
  {
   "cell_type": "code",
   "execution_count": 190,
   "id": "703e5dff-39a4-4f40-ae33-3cdc91f5f62b",
   "metadata": {},
   "outputs": [],
   "source": [
    "s4.add(5)"
   ]
  },
  {
   "cell_type": "code",
   "execution_count": 191,
   "id": "1a4efd62-1e99-4c63-9573-008bd9033e4a",
   "metadata": {},
   "outputs": [
    {
     "data": {
      "text/plain": [
       "{1, 2, 3, 4, 5, 11}"
      ]
     },
     "execution_count": 191,
     "metadata": {},
     "output_type": "execute_result"
    }
   ],
   "source": [
    "s4"
   ]
  },
  {
   "cell_type": "code",
   "execution_count": 192,
   "id": "f8e8d5b7-9fe7-493b-b225-5a482e9117d8",
   "metadata": {},
   "outputs": [],
   "source": [
    "s4.remove(4)"
   ]
  },
  {
   "cell_type": "code",
   "execution_count": 193,
   "id": "433e4987-513b-4689-a21a-342e1fcb22a1",
   "metadata": {},
   "outputs": [
    {
     "data": {
      "text/plain": [
       "{1, 2, 3, 5, 11}"
      ]
     },
     "execution_count": 193,
     "metadata": {},
     "output_type": "execute_result"
    }
   ],
   "source": [
    "s4"
   ]
  },
  {
   "cell_type": "code",
   "execution_count": 194,
   "id": "7ddba38c-71dd-4269-9019-bbf380a5e43f",
   "metadata": {},
   "outputs": [],
   "source": [
    "s4.discard(2)"
   ]
  },
  {
   "cell_type": "code",
   "execution_count": 195,
   "id": "5dccad54-7c29-4ce8-b0a2-3e27d7f91de1",
   "metadata": {},
   "outputs": [
    {
     "data": {
      "text/plain": [
       "{1, 3, 5, 11}"
      ]
     },
     "execution_count": 195,
     "metadata": {},
     "output_type": "execute_result"
    }
   ],
   "source": [
    "s4"
   ]
  }
 ],
 "metadata": {
  "kernelspec": {
   "display_name": "Python 3 (ipykernel)",
   "language": "python",
   "name": "python3"
  },
  "language_info": {
   "codemirror_mode": {
    "name": "ipython",
    "version": 3
   },
   "file_extension": ".py",
   "mimetype": "text/x-python",
   "name": "python",
   "nbconvert_exporter": "python",
   "pygments_lexer": "ipython3",
   "version": "3.10.8"
  }
 },
 "nbformat": 4,
 "nbformat_minor": 5
}
