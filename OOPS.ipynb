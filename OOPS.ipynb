{
 "cells": [
  {
   "cell_type": "code",
   "execution_count": 1,
   "id": "fddaf8fe-8155-4838-92c5-cf066ba57207",
   "metadata": {},
   "outputs": [],
   "source": [
    "a = 1"
   ]
  },
  {
   "cell_type": "code",
   "execution_count": 2,
   "id": "3c44c33b-5bb9-4f91-ba8c-46189a2df368",
   "metadata": {},
   "outputs": [
    {
     "data": {
      "text/plain": [
       "int"
      ]
     },
     "execution_count": 2,
     "metadata": {},
     "output_type": "execute_result"
    }
   ],
   "source": [
    "type(a)"
   ]
  },
  {
   "cell_type": "code",
   "execution_count": 3,
   "id": "3c5a96af-81ed-44c6-a42e-3cc85887ae78",
   "metadata": {},
   "outputs": [
    {
     "name": "stdout",
     "output_type": "stream",
     "text": [
      "<class 'int'>\n"
     ]
    }
   ],
   "source": [
    "print(type(a))"
   ]
  },
  {
   "cell_type": "code",
   "execution_count": 4,
   "id": "b6b74acd-8847-49c7-b0c3-6fc8dc9cac5a",
   "metadata": {},
   "outputs": [],
   "source": [
    "b = 'pwskills'"
   ]
  },
  {
   "cell_type": "code",
   "execution_count": 5,
   "id": "c17dd8df-c271-4f15-8091-d8a2438757bc",
   "metadata": {},
   "outputs": [
    {
     "name": "stdout",
     "output_type": "stream",
     "text": [
      "<class 'str'>\n"
     ]
    }
   ],
   "source": [
    "print(type(b))"
   ]
  },
  {
   "cell_type": "code",
   "execution_count": 1,
   "id": "a59ace1d-9750-4526-855d-64bc05fe73ab",
   "metadata": {},
   "outputs": [],
   "source": [
    "class test:\n",
    "    pass"
   ]
  },
  {
   "cell_type": "code",
   "execution_count": 2,
   "id": "55b24c9d-13cf-4dfb-9dbc-be45a405f4ec",
   "metadata": {},
   "outputs": [],
   "source": [
    "a = test()"
   ]
  },
  {
   "cell_type": "code",
   "execution_count": 3,
   "id": "3081eac2-8793-4cdb-9030-a70f6c79a01d",
   "metadata": {},
   "outputs": [
    {
     "data": {
      "text/plain": [
       "__main__.test"
      ]
     },
     "execution_count": 3,
     "metadata": {},
     "output_type": "execute_result"
    }
   ],
   "source": [
    "type(a)"
   ]
  },
  {
   "cell_type": "code",
   "execution_count": 4,
   "id": "d01d3024-eaf4-4abc-8688-b71d2ce4de01",
   "metadata": {},
   "outputs": [
    {
     "name": "stdout",
     "output_type": "stream",
     "text": [
      "<class '__main__.test'>\n"
     ]
    }
   ],
   "source": [
    "print(type(a))"
   ]
  },
  {
   "cell_type": "code",
   "execution_count": 9,
   "id": "a96eae6e-741c-482c-b032-54bc2411bd8f",
   "metadata": {},
   "outputs": [],
   "source": [
    "class pwskills:\n",
    "    def welcome_message(self):\n",
    "        print('welcome to pwskills')"
   ]
  },
  {
   "cell_type": "code",
   "execution_count": 10,
   "id": "f06c752b-97cb-49f0-b254-f35a2573fff2",
   "metadata": {},
   "outputs": [],
   "source": [
    "rohan = pwskills()"
   ]
  },
  {
   "cell_type": "code",
   "execution_count": 11,
   "id": "a95a545e-16b4-4256-bcbf-10af821b684f",
   "metadata": {},
   "outputs": [
    {
     "name": "stdout",
     "output_type": "stream",
     "text": [
      "<class '__main__.pwskills'>\n"
     ]
    }
   ],
   "source": [
    "print(type(rohan))"
   ]
  },
  {
   "cell_type": "code",
   "execution_count": 12,
   "id": "61869047-e94e-4a8e-8d85-c1d4fd842e81",
   "metadata": {},
   "outputs": [
    {
     "name": "stdout",
     "output_type": "stream",
     "text": [
      "welcome to pwskills\n"
     ]
    }
   ],
   "source": [
    "rohan.welcome_message()"
   ]
  },
  {
   "cell_type": "code",
   "execution_count": 13,
   "id": "1bf111bf-347f-4175-9270-fccb13bc166d",
   "metadata": {},
   "outputs": [],
   "source": [
    "gaurav = pwskills()"
   ]
  },
  {
   "cell_type": "code",
   "execution_count": 14,
   "id": "30422cea-8189-40bc-9245-912d78a9243d",
   "metadata": {},
   "outputs": [
    {
     "name": "stdout",
     "output_type": "stream",
     "text": [
      "welcome to pwskills\n"
     ]
    }
   ],
   "source": [
    "gaurav.welcome_message()"
   ]
  },
  {
   "cell_type": "code",
   "execution_count": 15,
   "id": "270d2fa0-c51c-4732-9fdc-90c8eee3d293",
   "metadata": {},
   "outputs": [],
   "source": [
    "class pwskills1:\n",
    "    def __init__(self,phone_number,email):\n",
    "        self.phone_number = phone_number\n",
    "        self.email = email\n",
    "    def return_student(self):\n",
    "        return self.phone_number,self.email"
   ]
  },
  {
   "cell_type": "code",
   "execution_count": 18,
   "id": "1064154b-1132-4121-91a8-6de198fbb96f",
   "metadata": {},
   "outputs": [],
   "source": [
    "rphan = pwskills1(1222222,'rohan@gmail.com')"
   ]
  },
  {
   "cell_type": "code",
   "execution_count": 19,
   "id": "dff47cbf-0106-46c1-bb59-b9e7c4775c07",
   "metadata": {},
   "outputs": [
    {
     "data": {
      "text/plain": [
       "(1222222, 'rohan@gmail.com')"
      ]
     },
     "execution_count": 19,
     "metadata": {},
     "output_type": "execute_result"
    }
   ],
   "source": [
    "rphan.return_student()"
   ]
  },
  {
   "cell_type": "code",
   "execution_count": 20,
   "id": "31cac38b-96f5-4a9f-872a-708e5b2d76d7",
   "metadata": {},
   "outputs": [],
   "source": [
    "gaurav = pwskills1(9511764800,'harshal@gmail.com')"
   ]
  },
  {
   "cell_type": "code",
   "execution_count": 21,
   "id": "aed2f631-4521-4698-ab6a-20041811a8da",
   "metadata": {},
   "outputs": [
    {
     "data": {
      "text/plain": [
       "(9511764800, 'harshal@gmail.com')"
      ]
     },
     "execution_count": 21,
     "metadata": {},
     "output_type": "execute_result"
    }
   ],
   "source": [
    "gaurav.return_student()"
   ]
  },
  {
   "cell_type": "code",
   "execution_count": 22,
   "id": "bc24197d-bc09-4ab9-b9a4-0a6c677e90d2",
   "metadata": {},
   "outputs": [
    {
     "data": {
      "text/plain": [
       "9511764800"
      ]
     },
     "execution_count": 22,
     "metadata": {},
     "output_type": "execute_result"
    }
   ],
   "source": [
    "gaurav.phone_number      ##varible saame as assign in class."
   ]
  },
  {
   "cell_type": "code",
   "execution_count": 23,
   "id": "5e06adfa-2f81-4f1f-bc97-3b76c55ce4e0",
   "metadata": {},
   "outputs": [
    {
     "data": {
      "text/plain": [
       "'harshal@gmail.com'"
      ]
     },
     "execution_count": 23,
     "metadata": {},
     "output_type": "execute_result"
    }
   ],
   "source": [
    "gaurav.email"
   ]
  },
  {
   "cell_type": "code",
   "execution_count": 24,
   "id": "849579c5-114e-4e05-bdab-24570cd35b76",
   "metadata": {},
   "outputs": [],
   "source": [
    "class pwskills2:\n",
    "    def __init__(harshu,phone_number,email):\n",
    "        harshu.phone_number = phone_number\n",
    "        harshu.email = email\n",
    "    def return_student(self):\n",
    "        return harshu.phone_number,harshu.email"
   ]
  },
  {
   "cell_type": "code",
   "execution_count": 26,
   "id": "e9025f69-ab1a-423d-981a-65641a80ed17",
   "metadata": {},
   "outputs": [],
   "source": [
    "harshal = pwskills2(9511764800,'pwskills')"
   ]
  },
  {
   "cell_type": "code",
   "execution_count": null,
   "id": "d3f66b25-be15-4d7f-a7ae-9adb793598cb",
   "metadata": {},
   "outputs": [],
   "source": [
    "harshal."
   ]
  }
 ],
 "metadata": {
  "kernelspec": {
   "display_name": "Python 3 (ipykernel)",
   "language": "python",
   "name": "python3"
  },
  "language_info": {
   "codemirror_mode": {
    "name": "ipython",
    "version": 3
   },
   "file_extension": ".py",
   "mimetype": "text/x-python",
   "name": "python",
   "nbconvert_exporter": "python",
   "pygments_lexer": "ipython3",
   "version": "3.10.8"
  }
 },
 "nbformat": 4,
 "nbformat_minor": 5
}
