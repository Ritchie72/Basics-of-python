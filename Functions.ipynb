{
 "cells": [
  {
   "cell_type": "code",
   "execution_count": 1,
   "id": "779f9c01-9d0c-4da3-b2b0-116f29ec96a0",
   "metadata": {},
   "outputs": [
    {
     "ename": "SyntaxError",
     "evalue": "incomplete input (3861551224.py, line 1)",
     "output_type": "error",
     "traceback": [
      "\u001b[0;36m  Cell \u001b[0;32mIn[1], line 1\u001b[0;36m\u001b[0m\n\u001b[0;31m    def test():\u001b[0m\n\u001b[0m               ^\u001b[0m\n\u001b[0;31mSyntaxError\u001b[0m\u001b[0;31m:\u001b[0m incomplete input\n"
     ]
    }
   ],
   "source": [
    "def test():"
   ]
  },
  {
   "cell_type": "code",
   "execution_count": 2,
   "id": "5f3c5157-df41-4074-bf6c-70b57daf3420",
   "metadata": {},
   "outputs": [],
   "source": [
    "def test():\n",
    "    print('this is my first function')"
   ]
  },
  {
   "cell_type": "code",
   "execution_count": 3,
   "id": "4fa84b95-ad46-4020-ac67-d2ec3c19acc0",
   "metadata": {},
   "outputs": [
    {
     "name": "stdout",
     "output_type": "stream",
     "text": [
      "this is my first function\n"
     ]
    }
   ],
   "source": [
    "test()"
   ]
  },
  {
   "cell_type": "code",
   "execution_count": 4,
   "id": "db5bbdb5-8433-425b-8a64-51382556fdff",
   "metadata": {},
   "outputs": [
    {
     "data": {
      "text/plain": [
       "<function __main__.test()>"
      ]
     },
     "execution_count": 4,
     "metadata": {},
     "output_type": "execute_result"
    }
   ],
   "source": [
    "test"
   ]
  },
  {
   "cell_type": "code",
   "execution_count": 5,
   "id": "dec56ec1-d1d0-4f0a-9279-956f494b1bd6",
   "metadata": {},
   "outputs": [
    {
     "ename": "SyntaxError",
     "evalue": "cannot assign to function call here. Maybe you meant '==' instead of '='? (2143085903.py, line 1)",
     "output_type": "error",
     "traceback": [
      "\u001b[0;36m  Cell \u001b[0;32mIn[5], line 1\u001b[0;36m\u001b[0m\n\u001b[0;31m    test() = 'harshal'\u001b[0m\n\u001b[0m    ^\u001b[0m\n\u001b[0;31mSyntaxError\u001b[0m\u001b[0;31m:\u001b[0m cannot assign to function call here. Maybe you meant '==' instead of '='?\n"
     ]
    }
   ],
   "source": [
    "test() = 'harshal'"
   ]
  },
  {
   "cell_type": "code",
   "execution_count": 6,
   "id": "6bfc4458-1e21-453b-95d9-20a7b2be1faa",
   "metadata": {},
   "outputs": [],
   "source": [
    "def test2():\n",
    "    return 'this is my second function'"
   ]
  },
  {
   "cell_type": "code",
   "execution_count": 7,
   "id": "167ee29c-5207-499e-8e3e-4e45f8026c0e",
   "metadata": {},
   "outputs": [
    {
     "data": {
      "text/plain": [
       "<function __main__.test2()>"
      ]
     },
     "execution_count": 7,
     "metadata": {},
     "output_type": "execute_result"
    }
   ],
   "source": [
    "test2"
   ]
  },
  {
   "cell_type": "code",
   "execution_count": 8,
   "id": "a67421ce-1664-470e-a0e5-632b5f97dacd",
   "metadata": {},
   "outputs": [
    {
     "data": {
      "text/plain": [
       "'this is my second function'"
      ]
     },
     "execution_count": 8,
     "metadata": {},
     "output_type": "execute_result"
    }
   ],
   "source": [
    "test2()"
   ]
  },
  {
   "cell_type": "code",
   "execution_count": 9,
   "id": "76024abb-df5f-40cd-8e98-8699f0d2bd9d",
   "metadata": {},
   "outputs": [],
   "source": [
    "def test3():\n",
    "    return 'harshal', 23,345.56,[1,2,3,4]"
   ]
  },
  {
   "cell_type": "code",
   "execution_count": 10,
   "id": "18e0a646-6b63-4598-8820-baf5290a6aec",
   "metadata": {},
   "outputs": [],
   "source": [
    "a,b,c,d = test3()"
   ]
  },
  {
   "cell_type": "code",
   "execution_count": 11,
   "id": "f13f1711-9a6d-4f5a-a7d5-8823796d88fc",
   "metadata": {},
   "outputs": [
    {
     "data": {
      "text/plain": [
       "'harshal'"
      ]
     },
     "execution_count": 11,
     "metadata": {},
     "output_type": "execute_result"
    }
   ],
   "source": [
    "a"
   ]
  },
  {
   "cell_type": "code",
   "execution_count": 12,
   "id": "42b3e471-ea14-462b-9f7e-f4487c07ef61",
   "metadata": {},
   "outputs": [
    {
     "data": {
      "text/plain": [
       "23"
      ]
     },
     "execution_count": 12,
     "metadata": {},
     "output_type": "execute_result"
    }
   ],
   "source": [
    "b"
   ]
  },
  {
   "cell_type": "code",
   "execution_count": 13,
   "id": "356b65b1-5b94-4e6b-bc67-3f92d974cde1",
   "metadata": {},
   "outputs": [
    {
     "data": {
      "text/plain": [
       "345.56"
      ]
     },
     "execution_count": 13,
     "metadata": {},
     "output_type": "execute_result"
    }
   ],
   "source": [
    "c"
   ]
  },
  {
   "cell_type": "code",
   "execution_count": 14,
   "id": "c1fd60e2-5db4-44be-a9be-1012a7f7bdf4",
   "metadata": {},
   "outputs": [
    {
     "data": {
      "text/plain": [
       "[1, 2, 3, 4]"
      ]
     },
     "execution_count": 14,
     "metadata": {},
     "output_type": "execute_result"
    }
   ],
   "source": [
    "d"
   ]
  },
  {
   "cell_type": "code",
   "execution_count": 15,
   "id": "94350808-5c92-4349-a04d-84e4742e3b84",
   "metadata": {},
   "outputs": [],
   "source": [
    "def test4():\n",
    "    a = 5+6/7\n",
    "    return a"
   ]
  },
  {
   "cell_type": "code",
   "execution_count": 16,
   "id": "0d8e4dd8-fc9f-4aea-9317-087fed75c1bc",
   "metadata": {},
   "outputs": [
    {
     "data": {
      "text/plain": [
       "5.857142857142857"
      ]
     },
     "execution_count": 16,
     "metadata": {},
     "output_type": "execute_result"
    }
   ],
   "source": [
    "test4()"
   ]
  },
  {
   "cell_type": "code",
   "execution_count": 17,
   "id": "e407c42e-c60c-465e-9c84-2b807d55ce9f",
   "metadata": {},
   "outputs": [],
   "source": [
    "def test5(a,b,c):\n",
    "    d = a+b/c\n",
    "    return d"
   ]
  },
  {
   "cell_type": "code",
   "execution_count": 18,
   "id": "ad1a453d-0a95-4ec4-9b88-34d1b355284a",
   "metadata": {},
   "outputs": [
    {
     "data": {
      "text/plain": [
       "1.6666666666666665"
      ]
     },
     "execution_count": 18,
     "metadata": {},
     "output_type": "execute_result"
    }
   ],
   "source": [
    "test5(1,2,3)"
   ]
  },
  {
   "cell_type": "code",
   "execution_count": 19,
   "id": "ab327449-77c0-4134-9753-419aae679a08",
   "metadata": {},
   "outputs": [],
   "source": [
    "def test6(a,b):\n",
    "    return a+b"
   ]
  },
  {
   "cell_type": "code",
   "execution_count": 20,
   "id": "295999c9-c8e6-4268-90bb-58d9497a2fb1",
   "metadata": {},
   "outputs": [
    {
     "data": {
      "text/plain": [
       "'harshalgajbhiye'"
      ]
     },
     "execution_count": 20,
     "metadata": {},
     "output_type": "execute_result"
    }
   ],
   "source": [
    "test6('harshal','gajbhiye')"
   ]
  },
  {
   "cell_type": "code",
   "execution_count": 21,
   "id": "96ced94b-7f3a-438e-9d53-5267d6340ed9",
   "metadata": {},
   "outputs": [
    {
     "data": {
      "text/plain": [
       "[1, 2, 3, 4, 5, 6, 7, 8]"
      ]
     },
     "execution_count": 21,
     "metadata": {},
     "output_type": "execute_result"
    }
   ],
   "source": [
    "test6([1,2,3,4],[5,6,7,8])"
   ]
  },
  {
   "cell_type": "code",
   "execution_count": 28,
   "id": "d0580171-163e-4d9a-ae46-2d26fb0f3893",
   "metadata": {},
   "outputs": [],
   "source": [
    "def test7(l):\n",
    "    \"\"\" this is my function to extract data\"\"\"\n",
    "    l1 = []\n",
    "    for i in l:\n",
    "        if type(i) == int or type(i) ==float:\n",
    "            l1.append(i)\n",
    "        return l1"
   ]
  },
  {
   "cell_type": "code",
   "execution_count": 29,
   "id": "e4c5080e-e4b5-4cda-9eed-855256441548",
   "metadata": {},
   "outputs": [
    {
     "data": {
      "text/plain": [
       "[1]"
      ]
     },
     "execution_count": 29,
     "metadata": {},
     "output_type": "execute_result"
    }
   ],
   "source": [
    "test7([1,2,3,'harshal','abc'])"
   ]
  },
  {
   "cell_type": "code",
   "execution_count": 30,
   "id": "99a26083-c314-4c2b-88ee-44761a3cf0f8",
   "metadata": {},
   "outputs": [
    {
     "ename": "TypeError",
     "evalue": "test7() missing 1 required positional argument: 'l'",
     "output_type": "error",
     "traceback": [
      "\u001b[0;31m---------------------------------------------------------------------------\u001b[0m",
      "\u001b[0;31mTypeError\u001b[0m                                 Traceback (most recent call last)",
      "Cell \u001b[0;32mIn[30], line 1\u001b[0m\n\u001b[0;32m----> 1\u001b[0m \u001b[43mtest7\u001b[49m\u001b[43m(\u001b[49m\u001b[43m)\u001b[49m\n",
      "\u001b[0;31mTypeError\u001b[0m: test7() missing 1 required positional argument: 'l'"
     ]
    }
   ],
   "source": [
    "test7()"
   ]
  },
  {
   "cell_type": "code",
   "execution_count": 31,
   "id": "14680664-6495-4b1e-9ad4-fd3e9541b0e3",
   "metadata": {},
   "outputs": [],
   "source": [
    "def test8(*args):\n",
    "    return args"
   ]
  },
  {
   "cell_type": "code",
   "execution_count": 32,
   "id": "8f6d2702-459b-4a4f-b4c2-2bd6035db58d",
   "metadata": {},
   "outputs": [
    {
     "data": {
      "text/plain": [
       "(1, 2, 3, 4, 5)"
      ]
     },
     "execution_count": 32,
     "metadata": {},
     "output_type": "execute_result"
    }
   ],
   "source": [
    "test8(1,2,3,4,5)"
   ]
  },
  {
   "cell_type": "code",
   "execution_count": 33,
   "id": "37cb8e02-3346-4822-85c7-de36ee30c659",
   "metadata": {},
   "outputs": [],
   "source": [
    "def test9(*args,a):\n",
    "    return args, a"
   ]
  },
  {
   "cell_type": "code",
   "execution_count": 35,
   "id": "9e7020bd-26a3-481a-b709-2450afd3c8ca",
   "metadata": {},
   "outputs": [
    {
     "data": {
      "text/plain": [
       "((1, 2, 3, 4, 5), 13)"
      ]
     },
     "execution_count": 35,
     "metadata": {},
     "output_type": "execute_result"
    }
   ],
   "source": [
    "test9(1,2,3,4,5,a = 13)"
   ]
  },
  {
   "cell_type": "code",
   "execution_count": 34,
   "id": "d121a69c-be54-440d-bfdb-4fd38550afc0",
   "metadata": {},
   "outputs": [
    {
     "data": {
      "text/plain": [
       "(((1, 2, 3, 4, 5),), 13)"
      ]
     },
     "execution_count": 34,
     "metadata": {},
     "output_type": "execute_result"
    }
   ],
   "source": [
    "test9((1,2,3,4,5),a = 13)"
   ]
  },
  {
   "cell_type": "code",
   "execution_count": 36,
   "id": "1cd71910-a441-4d61-a17f-0bb381d49f48",
   "metadata": {},
   "outputs": [],
   "source": [
    "def test10(c,d,a = 23,b=1):\n",
    "    return a,b,c,d"
   ]
  },
  {
   "cell_type": "code",
   "execution_count": 37,
   "id": "b6394394-01c4-4649-a2d1-b81369180f91",
   "metadata": {},
   "outputs": [
    {
     "name": "stdout",
     "output_type": "stream",
     "text": [
      "harshal 23 345.56 [1, 2, 3, 4]\n"
     ]
    }
   ],
   "source": [
    "print(a,b,c,d)"
   ]
  },
  {
   "cell_type": "code",
   "execution_count": 38,
   "id": "1f99677a-b320-452a-b60a-df9795b4fa2e",
   "metadata": {},
   "outputs": [
    {
     "data": {
      "text/plain": [
       "(23, 1, 3, 4)"
      ]
     },
     "execution_count": 38,
     "metadata": {},
     "output_type": "execute_result"
    }
   ],
   "source": [
    "test10(3,4)"
   ]
  },
  {
   "cell_type": "code",
   "execution_count": 39,
   "id": "b8c292aa-d691-45a7-9847-d19c0e145594",
   "metadata": {},
   "outputs": [],
   "source": [
    "def test11(**kwargs):\n",
    "    return kwargs"
   ]
  },
  {
   "cell_type": "code",
   "execution_count": 40,
   "id": "e178efe4-6366-4afd-a296-6bfaaa4fb64e",
   "metadata": {},
   "outputs": [
    {
     "data": {
      "text/plain": [
       "dict"
      ]
     },
     "execution_count": 40,
     "metadata": {},
     "output_type": "execute_result"
    }
   ],
   "source": [
    "type(test11())"
   ]
  },
  {
   "cell_type": "code",
   "execution_count": 41,
   "id": "8655eb07-c176-464c-8220-a8e21ef94528",
   "metadata": {},
   "outputs": [
    {
     "data": {
      "text/plain": [
       "{'a': [1, 2, 3, 4], 'b': 'sudh'}"
      ]
     },
     "execution_count": 41,
     "metadata": {},
     "output_type": "execute_result"
    }
   ],
   "source": [
    "test11(a = [1,2,3,4], b= 'sudh')"
   ]
  },
  {
   "cell_type": "code",
   "execution_count": 1,
   "id": "c2de7f92-cab5-489f-a79e-4e0a47b3e184",
   "metadata": {},
   "outputs": [],
   "source": [
    "## generator function"
   ]
  },
  {
   "cell_type": "code",
   "execution_count": 2,
   "id": "ad6cfb98-fada-4345-b632-f493ad085638",
   "metadata": {},
   "outputs": [
    {
     "data": {
      "text/plain": [
       "range(0, 10)"
      ]
     },
     "execution_count": 2,
     "metadata": {},
     "output_type": "execute_result"
    }
   ],
   "source": [
    "range(10)"
   ]
  },
  {
   "cell_type": "code",
   "execution_count": 3,
   "id": "aab7937d-6fe5-4f0e-b655-524aa3b5e300",
   "metadata": {},
   "outputs": [
    {
     "name": "stdout",
     "output_type": "stream",
     "text": [
      "0\n",
      "1\n",
      "2\n",
      "3\n",
      "4\n",
      "5\n",
      "6\n",
      "7\n",
      "8\n",
      "9\n"
     ]
    }
   ],
   "source": [
    "for i in range(10):\n",
    "    print(i)"
   ]
  },
  {
   "cell_type": "code",
   "execution_count": 1,
   "id": "b41985d1-280b-4d5f-8348-8a7fd55de050",
   "metadata": {},
   "outputs": [],
   "source": [
    "def fibonacci(n):\n",
    "    a,b = 0,1\n",
    "    for i in range(n):\n",
    "        yield a\n",
    "        a,b = b,a+b"
   ]
  },
  {
   "cell_type": "code",
   "execution_count": 2,
   "id": "a801f882-4866-48c7-a2bb-af58ff42ca30",
   "metadata": {},
   "outputs": [
    {
     "name": "stdout",
     "output_type": "stream",
     "text": [
      "0\n",
      "1\n",
      "1\n",
      "2\n",
      "3\n",
      "5\n",
      "8\n",
      "13\n",
      "21\n",
      "34\n"
     ]
    }
   ],
   "source": [
    "for i in fibonacci(10):\n",
    "    print(i)"
   ]
  },
  {
   "cell_type": "code",
   "execution_count": 7,
   "id": "cdcf98ee-92c6-4a7e-a331-0a8f5cc66ff7",
   "metadata": {},
   "outputs": [],
   "source": [
    "def test_fibo():\n",
    "    a,b = 0,1\n",
    "    while True:\n",
    "        yield a\n",
    "        a,b = b,a+b"
   ]
  },
  {
   "cell_type": "code",
   "execution_count": 9,
   "id": "76acc9a4-0d16-4807-8aa4-84f852cab40a",
   "metadata": {},
   "outputs": [
    {
     "name": "stdout",
     "output_type": "stream",
     "text": [
      "<generator object test_fibo at 0x7fe12113fed0>\n",
      "<generator object test_fibo at 0x7fe12113fed0>\n",
      "<generator object test_fibo at 0x7fe12113fed0>\n",
      "<generator object test_fibo at 0x7fe12113fed0>\n",
      "<generator object test_fibo at 0x7fe12113fed0>\n",
      "<generator object test_fibo at 0x7fe12113fed0>\n",
      "<generator object test_fibo at 0x7fe12113fed0>\n",
      "<generator object test_fibo at 0x7fe12113fed0>\n",
      "<generator object test_fibo at 0x7fe12113fed0>\n",
      "<generator object test_fibo at 0x7fe12113fed0>\n"
     ]
    }
   ],
   "source": [
    "for i in range(10):\n",
    "    print(test_fibo())"
   ]
  },
  {
   "cell_type": "code",
   "execution_count": 10,
   "id": "dd3f6638-b47c-4eb1-8355-82c0412798d6",
   "metadata": {},
   "outputs": [],
   "source": [
    "s = 'sudh'"
   ]
  },
  {
   "cell_type": "code",
   "execution_count": 15,
   "id": "30a2a58e-54a7-4bef-83b3-93ae38adcab6",
   "metadata": {},
   "outputs": [],
   "source": [
    "s1 = iter(s)"
   ]
  },
  {
   "cell_type": "code",
   "execution_count": 14,
   "id": "24d49e85-65b4-417a-ae8d-fcf3a38d5d29",
   "metadata": {},
   "outputs": [
    {
     "name": "stdout",
     "output_type": "stream",
     "text": [
      "s\n",
      "u\n",
      "d\n",
      "h\n"
     ]
    }
   ],
   "source": [
    "for i in s:\n",
    "    print(i)"
   ]
  },
  {
   "cell_type": "code",
   "execution_count": 16,
   "id": "22be7e6e-48d0-44ba-a6b4-297eeb5950e4",
   "metadata": {},
   "outputs": [
    {
     "data": {
      "text/plain": [
       "'s'"
      ]
     },
     "execution_count": 16,
     "metadata": {},
     "output_type": "execute_result"
    }
   ],
   "source": [
    "next(s1)"
   ]
  },
  {
   "cell_type": "code",
   "execution_count": 17,
   "id": "174307ce-de20-46a7-9167-c924d2b6c7eb",
   "metadata": {},
   "outputs": [
    {
     "data": {
      "text/plain": [
       "'u'"
      ]
     },
     "execution_count": 17,
     "metadata": {},
     "output_type": "execute_result"
    }
   ],
   "source": [
    "next(s1)"
   ]
  },
  {
   "cell_type": "code",
   "execution_count": 18,
   "id": "ca73624a-da4e-4c2f-a3e3-d1ce6606cf15",
   "metadata": {},
   "outputs": [
    {
     "data": {
      "text/plain": [
       "'d'"
      ]
     },
     "execution_count": 18,
     "metadata": {},
     "output_type": "execute_result"
    }
   ],
   "source": [
    "next(s1)"
   ]
  },
  {
   "cell_type": "code",
   "execution_count": 19,
   "id": "b928d0da-38c8-4d7f-9f8c-7c83747b8ce8",
   "metadata": {},
   "outputs": [
    {
     "data": {
      "text/plain": [
       "'h'"
      ]
     },
     "execution_count": 19,
     "metadata": {},
     "output_type": "execute_result"
    }
   ],
   "source": [
    "next(s1)"
   ]
  },
  {
   "cell_type": "code",
   "execution_count": 20,
   "id": "54e2779f-26cf-488c-ab9c-3070e39cb510",
   "metadata": {},
   "outputs": [],
   "source": [
    "def count_test(n):\n",
    "    count = 1\n",
    "    while count<n:\n",
    "        yield count\n",
    "        count = count +1"
   ]
  },
  {
   "cell_type": "code",
   "execution_count": 21,
   "id": "eca1b46d-ca97-4089-8d67-4d3526e79d9f",
   "metadata": {},
   "outputs": [
    {
     "name": "stdout",
     "output_type": "stream",
     "text": [
      "1\n",
      "2\n",
      "3\n",
      "4\n",
      "5\n",
      "6\n",
      "7\n",
      "8\n",
      "9\n"
     ]
    }
   ],
   "source": [
    "for i in count_test(10):\n",
    "    print(i)"
   ]
  },
  {
   "cell_type": "code",
   "execution_count": 23,
   "id": "492fbce9-62d3-4dfa-be12-7e8c88df2280",
   "metadata": {},
   "outputs": [],
   "source": [
    "c = count_test(10)"
   ]
  },
  {
   "cell_type": "code",
   "execution_count": 24,
   "id": "280f73a0-b7bd-4a49-abd6-a823970358a9",
   "metadata": {},
   "outputs": [
    {
     "data": {
      "text/plain": [
       "generator"
      ]
     },
     "execution_count": 24,
     "metadata": {},
     "output_type": "execute_result"
    }
   ],
   "source": [
    "type(c)"
   ]
  },
  {
   "cell_type": "code",
   "execution_count": 25,
   "id": "8ebe1dd8-e1ff-48df-8107-718d1f3b9e45",
   "metadata": {},
   "outputs": [],
   "source": [
    "## Lambda function"
   ]
  },
  {
   "cell_type": "code",
   "execution_count": 26,
   "id": "400d01f0-0d29-4601-a52c-7d57e381e549",
   "metadata": {},
   "outputs": [],
   "source": [
    "n = 3\n",
    "p = 2"
   ]
  },
  {
   "cell_type": "code",
   "execution_count": 27,
   "id": "25ebb478-16a6-4d21-8f92-8fcbb0350657",
   "metadata": {},
   "outputs": [],
   "source": [
    "def test_1(n,p):\n",
    "    return n**p"
   ]
  },
  {
   "cell_type": "code",
   "execution_count": 28,
   "id": "ba024001-d14b-41da-8b8f-a043cccd5632",
   "metadata": {},
   "outputs": [
    {
     "name": "stdout",
     "output_type": "stream",
     "text": [
      "9\n"
     ]
    }
   ],
   "source": [
    "print(test_1(3,2))"
   ]
  },
  {
   "cell_type": "code",
   "execution_count": 29,
   "id": "131605d8-4006-4cfc-997b-29011c87aeed",
   "metadata": {},
   "outputs": [
    {
     "data": {
      "text/plain": [
       "<function __main__.<lambda>(n, p)>"
      ]
     },
     "execution_count": 29,
     "metadata": {},
     "output_type": "execute_result"
    }
   ],
   "source": [
    "lambda n,p : n**p"
   ]
  },
  {
   "cell_type": "code",
   "execution_count": 30,
   "id": "e6f4764e-31ec-4f8b-82a0-cddf482f15d7",
   "metadata": {},
   "outputs": [],
   "source": [
    "a = lambda n,p : n**p"
   ]
  },
  {
   "cell_type": "code",
   "execution_count": 31,
   "id": "dd597b8c-0037-4315-bb2b-6ac2e6baed15",
   "metadata": {},
   "outputs": [
    {
     "data": {
      "text/plain": [
       "9"
      ]
     },
     "execution_count": 31,
     "metadata": {},
     "output_type": "execute_result"
    }
   ],
   "source": [
    "a(3,2)"
   ]
  },
  {
   "cell_type": "code",
   "execution_count": 32,
   "id": "3b714173-a5a8-49b9-82d3-f8ace72f17d5",
   "metadata": {},
   "outputs": [],
   "source": [
    "c_to_f = lambda c : (9/5)*c+32"
   ]
  },
  {
   "cell_type": "code",
   "execution_count": 33,
   "id": "1ecb4311-2852-49d7-b3ab-fc7d5169520e",
   "metadata": {},
   "outputs": [
    {
     "data": {
      "text/plain": [
       "89.6"
      ]
     },
     "execution_count": 33,
     "metadata": {},
     "output_type": "execute_result"
    }
   ],
   "source": [
    "c_to_f(32)"
   ]
  },
  {
   "cell_type": "code",
   "execution_count": 34,
   "id": "8f86b094-dab8-49e4-84b8-be1df25bffa5",
   "metadata": {},
   "outputs": [],
   "source": [
    "finding_max = lambda x,y : x if x>y else y"
   ]
  },
  {
   "cell_type": "code",
   "execution_count": 35,
   "id": "c75f8792-727d-4e3c-899e-bf652ea88263",
   "metadata": {},
   "outputs": [
    {
     "name": "stdout",
     "output_type": "stream",
     "text": [
      "45\n"
     ]
    }
   ],
   "source": [
    "print(finding_max(13,45))"
   ]
  },
  {
   "cell_type": "code",
   "execution_count": 36,
   "id": "daa668a4-d6ab-46b4-88d1-0a4121c78d1d",
   "metadata": {},
   "outputs": [],
   "source": [
    "s = 'harshal'"
   ]
  },
  {
   "cell_type": "code",
   "execution_count": 37,
   "id": "e0d38acd-0c81-44ba-9e2f-5a9f170f4138",
   "metadata": {},
   "outputs": [],
   "source": [
    "length = lambda s: len(s)"
   ]
  },
  {
   "cell_type": "code",
   "execution_count": 38,
   "id": "e36dc664-5dac-40cd-9745-8828d7f79d24",
   "metadata": {},
   "outputs": [
    {
     "data": {
      "text/plain": [
       "7"
      ]
     },
     "execution_count": 38,
     "metadata": {},
     "output_type": "execute_result"
    }
   ],
   "source": [
    "length(s)"
   ]
  },
  {
   "cell_type": "code",
   "execution_count": 39,
   "id": "6d2b76a4-b1c4-4165-949b-7266656cb230",
   "metadata": {},
   "outputs": [],
   "source": [
    "## Map/ Reduce/ Filter"
   ]
  },
  {
   "cell_type": "code",
   "execution_count": 40,
   "id": "e66492a2-e24c-438f-8916-f545b5ad2866",
   "metadata": {},
   "outputs": [],
   "source": [
    "l = [1,2,3,4,5]"
   ]
  },
  {
   "cell_type": "code",
   "execution_count": 43,
   "id": "3aed5700-0deb-4e79-8a19-5d744b4e06ea",
   "metadata": {},
   "outputs": [
    {
     "data": {
      "text/plain": [
       "[1, 4, 9, 16, 25]"
      ]
     },
     "execution_count": 43,
     "metadata": {},
     "output_type": "execute_result"
    }
   ],
   "source": [
    "list(map(lambda x: x**2,l))"
   ]
  },
  {
   "cell_type": "code",
   "execution_count": 45,
   "id": "75bf102a-0a53-4a58-8e1d-496205f38727",
   "metadata": {},
   "outputs": [],
   "source": [
    "l1 = [1,2,3,4,5]\n",
    "l2 = [6,7,8,9,10]"
   ]
  },
  {
   "cell_type": "code",
   "execution_count": 46,
   "id": "87747d49-1a05-4ee7-a1ed-894259e21916",
   "metadata": {},
   "outputs": [
    {
     "data": {
      "text/plain": [
       "[7, 9, 11, 13, 15]"
      ]
     },
     "execution_count": 46,
     "metadata": {},
     "output_type": "execute_result"
    }
   ],
   "source": [
    "list(map(lambda x,y: x+y,l1,l2))"
   ]
  },
  {
   "cell_type": "code",
   "execution_count": 47,
   "id": "d42021b0-b074-4387-9670-f697ea3f7a4a",
   "metadata": {},
   "outputs": [],
   "source": [
    "s = 'pwskills'"
   ]
  },
  {
   "cell_type": "code",
   "execution_count": 48,
   "id": "66571bb2-c353-4017-a875-0cffbc5bbf76",
   "metadata": {},
   "outputs": [
    {
     "data": {
      "text/plain": [
       "['P', 'W', 'S', 'K', 'I', 'L', 'L', 'S']"
      ]
     },
     "execution_count": 48,
     "metadata": {},
     "output_type": "execute_result"
    }
   ],
   "source": [
    "list(map(lambda s : s.upper(), s))"
   ]
  },
  {
   "cell_type": "code",
   "execution_count": 49,
   "id": "72a6f936-f987-417e-a087-45fc27d83a0a",
   "metadata": {},
   "outputs": [],
   "source": [
    "from functools import reduce"
   ]
  },
  {
   "cell_type": "code",
   "execution_count": 50,
   "id": "237c2add-6e74-4d48-875b-b162ed9751d5",
   "metadata": {},
   "outputs": [
    {
     "data": {
      "text/plain": [
       "15"
      ]
     },
     "execution_count": 50,
     "metadata": {},
     "output_type": "execute_result"
    }
   ],
   "source": [
    "reduce(lambda x,y : x+y,l)"
   ]
  },
  {
   "cell_type": "code",
   "execution_count": 51,
   "id": "e73b16a4-e208-4e98-973a-847dd0adc8af",
   "metadata": {},
   "outputs": [
    {
     "data": {
      "text/plain": [
       "120"
      ]
     },
     "execution_count": 51,
     "metadata": {},
     "output_type": "execute_result"
    }
   ],
   "source": [
    "reduce(lambda x,y : x*y,l)"
   ]
  },
  {
   "cell_type": "code",
   "execution_count": 52,
   "id": "c699d9d7-ce6b-4fff-9491-0fd59e0f18e2",
   "metadata": {},
   "outputs": [
    {
     "data": {
      "text/plain": [
       "5"
      ]
     },
     "execution_count": 52,
     "metadata": {},
     "output_type": "execute_result"
    }
   ],
   "source": [
    "reduce(lambda x,y : x if x>y else y, l)"
   ]
  },
  {
   "cell_type": "code",
   "execution_count": 53,
   "id": "1d9b4f2d-9674-42d9-8f04-b85cb42a2765",
   "metadata": {},
   "outputs": [
    {
     "data": {
      "text/plain": [
       "[1, 2, 3, 4, 5]"
      ]
     },
     "execution_count": 53,
     "metadata": {},
     "output_type": "execute_result"
    }
   ],
   "source": [
    "l"
   ]
  },
  {
   "cell_type": "code",
   "execution_count": 55,
   "id": "d304645d-59de-4a17-928c-87e699cb0256",
   "metadata": {},
   "outputs": [
    {
     "data": {
      "text/plain": [
       "[2, 4]"
      ]
     },
     "execution_count": 55,
     "metadata": {},
     "output_type": "execute_result"
    }
   ],
   "source": [
    "list(filter( lambda x: x%2 ==0,l))"
   ]
  },
  {
   "cell_type": "code",
   "execution_count": 56,
   "id": "09a990a7-1e77-4dfb-810a-bf65a0e086de",
   "metadata": {},
   "outputs": [],
   "source": [
    "l2 = ['sudh' , 'pwskills','kumar','banglore','krish']"
   ]
  },
  {
   "cell_type": "code",
   "execution_count": null,
   "id": "8fbc1772-9852-4bfe-8946-185745807ff5",
   "metadata": {},
   "outputs": [],
   "source": [
    "list(filter(lambda(x: len(x)<=6,l2)"
   ]
  }
 ],
 "metadata": {
  "kernelspec": {
   "display_name": "Python 3 (ipykernel)",
   "language": "python",
   "name": "python3"
  },
  "language_info": {
   "codemirror_mode": {
    "name": "ipython",
    "version": 3
   },
   "file_extension": ".py",
   "mimetype": "text/x-python",
   "name": "python",
   "nbconvert_exporter": "python",
   "pygments_lexer": "ipython3",
   "version": "3.10.8"
  }
 },
 "nbformat": 4,
 "nbformat_minor": 5
}
