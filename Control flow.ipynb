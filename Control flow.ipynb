{
 "cells": [
  {
   "cell_type": "code",
   "execution_count": 3,
   "id": "bbb03c75-8630-4915-aa29-7582a3d58c53",
   "metadata": {},
   "outputs": [
    {
     "name": "stdout",
     "output_type": "stream",
     "text": [
      "you will be part of A1 batch\n"
     ]
    }
   ],
   "source": [
    "marks = 65\n",
    "if marks >= 80:\n",
    "    print('you will be part if A0 batch')\n",
    "elif marks>= 60 and marks<80:\n",
    "    print(\"you will be part of A1 batch\")\n",
    "elif marks>= 40 and marks<60 :\n",
    "    print(\"you will be a part of A2 batch\")\n",
    "else:\n",
    "    print(\"you will be part of A3 batch\")"
   ]
  },
  {
   "cell_type": "code",
   "execution_count": 1,
   "id": "2f3405ed-b9ee-493c-8e7b-fc80cb54182d",
   "metadata": {},
   "outputs": [
    {
     "data": {
      "text/plain": [
       "False"
      ]
     },
     "execution_count": 1,
     "metadata": {},
     "output_type": "execute_result"
    }
   ],
   "source": [
    "10 >= 80"
   ]
  },
  {
   "cell_type": "code",
   "execution_count": 2,
   "id": "8db76e7a-fc3e-4515-9afd-ec964b16040a",
   "metadata": {},
   "outputs": [
    {
     "data": {
      "text/plain": [
       "True"
      ]
     },
     "execution_count": 2,
     "metadata": {},
     "output_type": "execute_result"
    }
   ],
   "source": [
    "80>=10"
   ]
  },
  {
   "cell_type": "code",
   "execution_count": 3,
   "id": "6beb9aef-771b-43e6-9529-743532be02a1",
   "metadata": {},
   "outputs": [
    {
     "name": "stdout",
     "output_type": "stream",
     "text": [
      "True\n"
     ]
    }
   ],
   "source": [
    "if 80 >=10 :\n",
    "    print(True)"
   ]
  },
  {
   "cell_type": "code",
   "execution_count": 4,
   "id": "d9ddf66e-e9a4-484c-b3ed-d8b2abc37a9a",
   "metadata": {},
   "outputs": [
    {
     "name": "stdout",
     "output_type": "stream",
     "text": [
      "True\n"
     ]
    }
   ],
   "source": [
    "if 80>=10 or 10<=8:\n",
    "    print(True)"
   ]
  },
  {
   "cell_type": "code",
   "execution_count": 8,
   "id": "7048e920-6f6e-4694-8246-22056edf6f5a",
   "metadata": {},
   "outputs": [
    {
     "name": "stdin",
     "output_type": "stream",
     "text": [
      " 45\n"
     ]
    }
   ],
   "source": [
    "marks = int(input())"
   ]
  },
  {
   "cell_type": "code",
   "execution_count": 9,
   "id": "31acae8c-87e3-4a0f-a3e1-136f0968c0bd",
   "metadata": {},
   "outputs": [
    {
     "name": "stdout",
     "output_type": "stream",
     "text": [
      "you will be a part of A2 batch\n"
     ]
    }
   ],
   "source": [
    "if marks >= 80:\n",
    "    print('you will be part if A0 batch')\n",
    "elif marks>= 60 and marks<80:\n",
    "    print(\"you will be part of A1 batch\")\n",
    "elif marks>= 40 and marks<60 :\n",
    "    print(\"you will be a part of A2 batch\")\n",
    "else:\n",
    "    print(\"you will be part of A3 batch\")"
   ]
  },
  {
   "cell_type": "code",
   "execution_count": 13,
   "id": "cc979b80-653a-4fa0-ab93-35d3d247c598",
   "metadata": {},
   "outputs": [
    {
     "name": "stdin",
     "output_type": "stream",
     "text": [
      " 1500\n"
     ]
    },
    {
     "name": "stdout",
     "output_type": "stream",
     "text": [
      "i will not purchase\n",
      "its okay\n"
     ]
    }
   ],
   "source": [
    "price = int(input())\n",
    "if price>1000:\n",
    "    print('i will not purchase')\n",
    "    if price>5000:\n",
    "        print('price is too much')\n",
    "    elif price < 2000:\n",
    "        print('its okay')\n",
    "else:\n",
    "    print('i will purchase')"
   ]
  },
  {
   "cell_type": "code",
   "execution_count": 15,
   "id": "6590cbf1-acbb-4531-897e-3800523720e2",
   "metadata": {},
   "outputs": [],
   "source": [
    "l = [1,2,3,4,5,6,7,8]\n",
    "l1 = []\n",
    "for i in range(len(l)):\n",
    "    l[i] = l[i]+1\n",
    "    l1.append(l[i])"
   ]
  },
  {
   "cell_type": "code",
   "execution_count": 16,
   "id": "109c7748-55ba-4fe4-a171-4549d4e79b6e",
   "metadata": {},
   "outputs": [
    {
     "data": {
      "text/plain": [
       "[2, 3, 4, 5, 6, 7, 8, 9]"
      ]
     },
     "execution_count": 16,
     "metadata": {},
     "output_type": "execute_result"
    }
   ],
   "source": [
    "l1"
   ]
  },
  {
   "cell_type": "code",
   "execution_count": 18,
   "id": "4e8e37e9-9fe1-4762-b904-ba5d67775d7b",
   "metadata": {},
   "outputs": [
    {
     "name": "stdout",
     "output_type": "stream",
     "text": [
      "2\n",
      "3\n",
      "4\n",
      "5\n",
      "6\n",
      "7\n",
      "8\n",
      "9\n"
     ]
    }
   ],
   "source": [
    "for i in l:\n",
    "    print(i)"
   ]
  },
  {
   "cell_type": "code",
   "execution_count": 23,
   "id": "1378fce7-131d-4c72-94bc-7d02ad5f5e38",
   "metadata": {},
   "outputs": [],
   "source": [
    "l2 = ['sudh', 'kumar', 'pwskills', 'course']"
   ]
  },
  {
   "cell_type": "code",
   "execution_count": 26,
   "id": "13744571-76ba-4bad-be4f-fa7fa7e8500f",
   "metadata": {},
   "outputs": [],
   "source": [
    "l3 = []"
   ]
  },
  {
   "cell_type": "code",
   "execution_count": 27,
   "id": "fdd4c7a5-8f43-40c2-9f4c-d6a150100be0",
   "metadata": {},
   "outputs": [],
   "source": [
    "for i in l2:\n",
    "    l3.append(i.upper())\n",
    "    "
   ]
  },
  {
   "cell_type": "code",
   "execution_count": 28,
   "id": "0fb31d95-5217-46b1-a3dd-96231aa08155",
   "metadata": {},
   "outputs": [
    {
     "name": "stdout",
     "output_type": "stream",
     "text": [
      "['SUDH', 'KUMAR', 'PWSKILLS', 'COURSE']\n"
     ]
    }
   ],
   "source": [
    "print(l3)"
   ]
  },
  {
   "cell_type": "code",
   "execution_count": 36,
   "id": "63b91443-6208-43a6-b043-c842ad8f38ad",
   "metadata": {},
   "outputs": [],
   "source": [
    "l4 = [1,2,3,4,4,'sudh','kumar','abc']"
   ]
  },
  {
   "cell_type": "code",
   "execution_count": 37,
   "id": "70947ca0-c5d7-423b-8e8a-361e9cee31ac",
   "metadata": {},
   "outputs": [],
   "source": [
    "l5 = []"
   ]
  },
  {
   "cell_type": "code",
   "execution_count": 46,
   "id": "eb0c1022-4273-4006-b313-31820e2b8590",
   "metadata": {},
   "outputs": [],
   "source": [
    "l6 = []"
   ]
  },
  {
   "cell_type": "code",
   "execution_count": 47,
   "id": "4df1e6b0-96a2-4280-9aba-ebba283b0420",
   "metadata": {},
   "outputs": [],
   "source": [
    "for i in l4:\n",
    "    if type(i) == str:\n",
    "        l5.append(i)\n",
    "    else:\n",
    "        l6.append(i)\n",
    "    "
   ]
  },
  {
   "cell_type": "code",
   "execution_count": 48,
   "id": "84f74fe2-5902-4f61-97ca-84e70bedf3d6",
   "metadata": {},
   "outputs": [
    {
     "data": {
      "text/plain": [
       "str"
      ]
     },
     "execution_count": 48,
     "metadata": {},
     "output_type": "execute_result"
    }
   ],
   "source": [
    "type('a')"
   ]
  },
  {
   "cell_type": "code",
   "execution_count": 49,
   "id": "8da9753c-61e9-444e-a6c6-09b886b2b6f9",
   "metadata": {},
   "outputs": [
    {
     "data": {
      "text/plain": [
       "['sudh', 'kumar', 'abc', 'sudh', 'kumar', 'abc']"
      ]
     },
     "execution_count": 49,
     "metadata": {},
     "output_type": "execute_result"
    }
   ],
   "source": [
    "l5"
   ]
  },
  {
   "cell_type": "code",
   "execution_count": 50,
   "id": "030e3a4c-d732-4e0b-9a71-2773e9524322",
   "metadata": {},
   "outputs": [
    {
     "data": {
      "text/plain": [
       "[1, 2, 3, 4, 4]"
      ]
     },
     "execution_count": 50,
     "metadata": {},
     "output_type": "execute_result"
    }
   ],
   "source": [
    "l6"
   ]
  },
  {
   "cell_type": "code",
   "execution_count": null,
   "id": "925fdc2e-6f42-4e2b-b078-0e7504ce713f",
   "metadata": {},
   "outputs": [],
   "source": []
  }
 ],
 "metadata": {
  "kernelspec": {
   "display_name": "Python 3 (ipykernel)",
   "language": "python",
   "name": "python3"
  },
  "language_info": {
   "codemirror_mode": {
    "name": "ipython",
    "version": 3
   },
   "file_extension": ".py",
   "mimetype": "text/x-python",
   "name": "python",
   "nbconvert_exporter": "python",
   "pygments_lexer": "ipython3",
   "version": "3.10.8"
  }
 },
 "nbformat": 4,
 "nbformat_minor": 5
}
